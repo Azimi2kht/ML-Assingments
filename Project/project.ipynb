{
 "cells": [
  {
   "cell_type": "code",
   "execution_count": 1,
   "id": "dadfcfac",
   "metadata": {},
   "outputs": [],
   "source": [
    "import pandas as pd\n",
    "import numpy as np\n",
    "from sklearn.model_selection import train_test_split"
   ]
  },
  {
   "cell_type": "markdown",
   "id": "d9465ca3",
   "metadata": {},
   "source": [
    "# Q1"
   ]
  },
  {
   "cell_type": "code",
   "execution_count": 2,
   "id": "fe70110c",
   "metadata": {},
   "outputs": [],
   "source": [
    "data = pd.read_csv('Mall_Customers.csv')"
   ]
  },
  {
   "cell_type": "code",
   "execution_count": 3,
   "id": "60d6c7d9",
   "metadata": {},
   "outputs": [
    {
     "data": {
      "text/html": [
       "<div>\n",
       "<style scoped>\n",
       "    .dataframe tbody tr th:only-of-type {\n",
       "        vertical-align: middle;\n",
       "    }\n",
       "\n",
       "    .dataframe tbody tr th {\n",
       "        vertical-align: top;\n",
       "    }\n",
       "\n",
       "    .dataframe thead th {\n",
       "        text-align: right;\n",
       "    }\n",
       "</style>\n",
       "<table border=\"1\" class=\"dataframe\">\n",
       "  <thead>\n",
       "    <tr style=\"text-align: right;\">\n",
       "      <th></th>\n",
       "      <th>CustomerID</th>\n",
       "      <th>Gender</th>\n",
       "      <th>Age</th>\n",
       "      <th>Annual Income (k$)</th>\n",
       "      <th>Spending Score (1-100)</th>\n",
       "    </tr>\n",
       "  </thead>\n",
       "  <tbody>\n",
       "    <tr>\n",
       "      <th>79</th>\n",
       "      <td>80</td>\n",
       "      <td>Female</td>\n",
       "      <td>49</td>\n",
       "      <td>54</td>\n",
       "      <td>42</td>\n",
       "    </tr>\n",
       "    <tr>\n",
       "      <th>197</th>\n",
       "      <td>198</td>\n",
       "      <td>Male</td>\n",
       "      <td>32</td>\n",
       "      <td>126</td>\n",
       "      <td>74</td>\n",
       "    </tr>\n",
       "    <tr>\n",
       "      <th>38</th>\n",
       "      <td>39</td>\n",
       "      <td>Female</td>\n",
       "      <td>36</td>\n",
       "      <td>37</td>\n",
       "      <td>26</td>\n",
       "    </tr>\n",
       "    <tr>\n",
       "      <th>24</th>\n",
       "      <td>25</td>\n",
       "      <td>Female</td>\n",
       "      <td>54</td>\n",
       "      <td>28</td>\n",
       "      <td>14</td>\n",
       "    </tr>\n",
       "    <tr>\n",
       "      <th>122</th>\n",
       "      <td>123</td>\n",
       "      <td>Female</td>\n",
       "      <td>40</td>\n",
       "      <td>69</td>\n",
       "      <td>58</td>\n",
       "    </tr>\n",
       "  </tbody>\n",
       "</table>\n",
       "</div>"
      ],
      "text/plain": [
       "     CustomerID  Gender  Age  Annual Income (k$)  Spending Score (1-100)\n",
       "79           80  Female   49                  54                      42\n",
       "197         198    Male   32                 126                      74\n",
       "38           39  Female   36                  37                      26\n",
       "24           25  Female   54                  28                      14\n",
       "122         123  Female   40                  69                      58"
      ]
     },
     "execution_count": 3,
     "metadata": {},
     "output_type": "execute_result"
    }
   ],
   "source": [
    "train_data, test_data = train_test_split(data, test_size=0.2, random_state=42)\n",
    "train_data.head()"
   ]
  },
  {
   "cell_type": "markdown",
   "id": "df4d8422",
   "metadata": {},
   "source": [
    "# Q2"
   ]
  },
  {
   "cell_type": "code",
   "execution_count": 4,
   "id": "dfb23476",
   "metadata": {},
   "outputs": [],
   "source": [
    "def check_drop(dataframe, column_name):\n",
    "    if column_name in dataframe.columns:\n",
    "        dataframe = dataframe.drop([column_name], axis=1)\n",
    "    return dataframe"
   ]
  },
  {
   "cell_type": "code",
   "execution_count": 5,
   "id": "9a0634a4",
   "metadata": {},
   "outputs": [
    {
     "data": {
      "text/html": [
       "<div>\n",
       "<style scoped>\n",
       "    .dataframe tbody tr th:only-of-type {\n",
       "        vertical-align: middle;\n",
       "    }\n",
       "\n",
       "    .dataframe tbody tr th {\n",
       "        vertical-align: top;\n",
       "    }\n",
       "\n",
       "    .dataframe thead th {\n",
       "        text-align: right;\n",
       "    }\n",
       "</style>\n",
       "<table border=\"1\" class=\"dataframe\">\n",
       "  <thead>\n",
       "    <tr style=\"text-align: right;\">\n",
       "      <th></th>\n",
       "      <th>Gender</th>\n",
       "      <th>Age</th>\n",
       "      <th>Annual Income (k$)</th>\n",
       "      <th>Spending Score (1-100)</th>\n",
       "    </tr>\n",
       "  </thead>\n",
       "  <tbody>\n",
       "    <tr>\n",
       "      <th>79</th>\n",
       "      <td>Female</td>\n",
       "      <td>49</td>\n",
       "      <td>54</td>\n",
       "      <td>42</td>\n",
       "    </tr>\n",
       "    <tr>\n",
       "      <th>197</th>\n",
       "      <td>Male</td>\n",
       "      <td>32</td>\n",
       "      <td>126</td>\n",
       "      <td>74</td>\n",
       "    </tr>\n",
       "    <tr>\n",
       "      <th>38</th>\n",
       "      <td>Female</td>\n",
       "      <td>36</td>\n",
       "      <td>37</td>\n",
       "      <td>26</td>\n",
       "    </tr>\n",
       "    <tr>\n",
       "      <th>24</th>\n",
       "      <td>Female</td>\n",
       "      <td>54</td>\n",
       "      <td>28</td>\n",
       "      <td>14</td>\n",
       "    </tr>\n",
       "    <tr>\n",
       "      <th>122</th>\n",
       "      <td>Female</td>\n",
       "      <td>40</td>\n",
       "      <td>69</td>\n",
       "      <td>58</td>\n",
       "    </tr>\n",
       "  </tbody>\n",
       "</table>\n",
       "</div>"
      ],
      "text/plain": [
       "     Gender  Age  Annual Income (k$)  Spending Score (1-100)\n",
       "79   Female   49                  54                      42\n",
       "197    Male   32                 126                      74\n",
       "38   Female   36                  37                      26\n",
       "24   Female   54                  28                      14\n",
       "122  Female   40                  69                      58"
      ]
     },
     "execution_count": 5,
     "metadata": {},
     "output_type": "execute_result"
    }
   ],
   "source": [
    "train_data = check_drop(train_data, 'CustomerID')\n",
    "test_data = check_drop(test_data, 'CustomerID')\n",
    "        \n",
    "train_data.head()"
   ]
  },
  {
   "cell_type": "code",
   "execution_count": 6,
   "id": "a405a112",
   "metadata": {},
   "outputs": [
    {
     "data": {
      "text/html": [
       "<div>\n",
       "<style scoped>\n",
       "    .dataframe tbody tr th:only-of-type {\n",
       "        vertical-align: middle;\n",
       "    }\n",
       "\n",
       "    .dataframe tbody tr th {\n",
       "        vertical-align: top;\n",
       "    }\n",
       "\n",
       "    .dataframe thead th {\n",
       "        text-align: right;\n",
       "    }\n",
       "</style>\n",
       "<table border=\"1\" class=\"dataframe\">\n",
       "  <thead>\n",
       "    <tr style=\"text-align: right;\">\n",
       "      <th></th>\n",
       "      <th>Gender</th>\n",
       "      <th>Age</th>\n",
       "      <th>Annual Income (k$)</th>\n",
       "      <th>Spending Score (1-100)</th>\n",
       "    </tr>\n",
       "  </thead>\n",
       "  <tbody>\n",
       "    <tr>\n",
       "      <th>95</th>\n",
       "      <td>Male</td>\n",
       "      <td>24</td>\n",
       "      <td>60</td>\n",
       "      <td>52</td>\n",
       "    </tr>\n",
       "    <tr>\n",
       "      <th>15</th>\n",
       "      <td>Male</td>\n",
       "      <td>22</td>\n",
       "      <td>20</td>\n",
       "      <td>79</td>\n",
       "    </tr>\n",
       "    <tr>\n",
       "      <th>30</th>\n",
       "      <td>Male</td>\n",
       "      <td>60</td>\n",
       "      <td>30</td>\n",
       "      <td>4</td>\n",
       "    </tr>\n",
       "    <tr>\n",
       "      <th>158</th>\n",
       "      <td>Male</td>\n",
       "      <td>34</td>\n",
       "      <td>78</td>\n",
       "      <td>1</td>\n",
       "    </tr>\n",
       "    <tr>\n",
       "      <th>128</th>\n",
       "      <td>Male</td>\n",
       "      <td>59</td>\n",
       "      <td>71</td>\n",
       "      <td>11</td>\n",
       "    </tr>\n",
       "  </tbody>\n",
       "</table>\n",
       "</div>"
      ],
      "text/plain": [
       "    Gender  Age  Annual Income (k$)  Spending Score (1-100)\n",
       "95    Male   24                  60                      52\n",
       "15    Male   22                  20                      79\n",
       "30    Male   60                  30                       4\n",
       "158   Male   34                  78                       1\n",
       "128   Male   59                  71                      11"
      ]
     },
     "execution_count": 6,
     "metadata": {},
     "output_type": "execute_result"
    }
   ],
   "source": [
    "test_data.head()"
   ]
  },
  {
   "cell_type": "markdown",
   "id": "9d2c8462",
   "metadata": {},
   "source": [
    "# Q3"
   ]
  },
  {
   "cell_type": "code",
   "execution_count": 7,
   "id": "e7b4be29",
   "metadata": {},
   "outputs": [
    {
     "data": {
      "text/html": [
       "<div>\n",
       "<style scoped>\n",
       "    .dataframe tbody tr th:only-of-type {\n",
       "        vertical-align: middle;\n",
       "    }\n",
       "\n",
       "    .dataframe tbody tr th {\n",
       "        vertical-align: top;\n",
       "    }\n",
       "\n",
       "    .dataframe thead th {\n",
       "        text-align: right;\n",
       "    }\n",
       "</style>\n",
       "<table border=\"1\" class=\"dataframe\">\n",
       "  <thead>\n",
       "    <tr style=\"text-align: right;\">\n",
       "      <th></th>\n",
       "      <th>Age</th>\n",
       "      <th>Annual Income (k$)</th>\n",
       "      <th>Spending Score (1-100)</th>\n",
       "    </tr>\n",
       "  </thead>\n",
       "  <tbody>\n",
       "    <tr>\n",
       "      <th>count</th>\n",
       "      <td>160.000000</td>\n",
       "      <td>160.000000</td>\n",
       "      <td>160.00000</td>\n",
       "    </tr>\n",
       "    <tr>\n",
       "      <th>mean</th>\n",
       "      <td>38.912500</td>\n",
       "      <td>60.606250</td>\n",
       "      <td>51.77500</td>\n",
       "    </tr>\n",
       "    <tr>\n",
       "      <th>std</th>\n",
       "      <td>13.856582</td>\n",
       "      <td>27.395105</td>\n",
       "      <td>26.42063</td>\n",
       "    </tr>\n",
       "    <tr>\n",
       "      <th>min</th>\n",
       "      <td>18.000000</td>\n",
       "      <td>15.000000</td>\n",
       "      <td>1.00000</td>\n",
       "    </tr>\n",
       "    <tr>\n",
       "      <th>25%</th>\n",
       "      <td>29.000000</td>\n",
       "      <td>39.750000</td>\n",
       "      <td>35.75000</td>\n",
       "    </tr>\n",
       "    <tr>\n",
       "      <th>50%</th>\n",
       "      <td>36.000000</td>\n",
       "      <td>62.000000</td>\n",
       "      <td>50.50000</td>\n",
       "    </tr>\n",
       "    <tr>\n",
       "      <th>75%</th>\n",
       "      <td>49.000000</td>\n",
       "      <td>78.000000</td>\n",
       "      <td>74.00000</td>\n",
       "    </tr>\n",
       "    <tr>\n",
       "      <th>max</th>\n",
       "      <td>70.000000</td>\n",
       "      <td>137.000000</td>\n",
       "      <td>99.00000</td>\n",
       "    </tr>\n",
       "  </tbody>\n",
       "</table>\n",
       "</div>"
      ],
      "text/plain": [
       "              Age  Annual Income (k$)  Spending Score (1-100)\n",
       "count  160.000000          160.000000               160.00000\n",
       "mean    38.912500           60.606250                51.77500\n",
       "std     13.856582           27.395105                26.42063\n",
       "min     18.000000           15.000000                 1.00000\n",
       "25%     29.000000           39.750000                35.75000\n",
       "50%     36.000000           62.000000                50.50000\n",
       "75%     49.000000           78.000000                74.00000\n",
       "max     70.000000          137.000000                99.00000"
      ]
     },
     "execution_count": 7,
     "metadata": {},
     "output_type": "execute_result"
    }
   ],
   "source": [
    "train_data.describe()"
   ]
  },
  {
   "cell_type": "markdown",
   "id": "188d352c",
   "metadata": {},
   "source": [
    "# Q4"
   ]
  },
  {
   "cell_type": "code",
   "execution_count": 8,
   "id": "c7e72e6f",
   "metadata": {},
   "outputs": [],
   "source": [
    "from sklearn.preprocessing import StandardScaler\n",
    "from sklearn.compose import ColumnTransformer\n",
    "from sklearn.pipeline import Pipeline"
   ]
  },
  {
   "cell_type": "code",
   "execution_count": 9,
   "id": "ade81ccd",
   "metadata": {},
   "outputs": [],
   "source": [
    "scaler = StandardScaler()"
   ]
  },
  {
   "cell_type": "code",
   "execution_count": 10,
   "id": "9186ff28",
   "metadata": {},
   "outputs": [
    {
     "name": "stdout",
     "output_type": "stream",
     "text": [
      "Index(['Age', 'Annual Income (k$)', 'Spending Score (1-100)'], dtype='object')\n",
      "Index(['Gender'], dtype='object')\n"
     ]
    }
   ],
   "source": [
    "numerical_cols = train_data.select_dtypes(include=['float64', 'int64']).columns\n",
    "categorical_cols = test_data.select_dtypes(include=['object']).columns\n",
    "\n",
    "print(numerical_cols)\n",
    "print(categorical_cols)"
   ]
  },
  {
   "cell_type": "code",
   "execution_count": 11,
   "id": "6f949a51",
   "metadata": {},
   "outputs": [],
   "source": [
    "preprocessor = ColumnTransformer(\n",
    "    transformers=[\n",
    "        ('numeric', StandardScaler(), numerical_cols)\n",
    "    ],\n",
    "    remainder='passthrough'  \n",
    ")\n",
    "preprocessor.set_output(transform='pandas')\n",
    "train_data_norm = preprocessor.fit_transform(train_data)\n",
    "test_data_norm = preprocessor.fit_transform(test_data)"
   ]
  },
  {
   "cell_type": "code",
   "execution_count": 12,
   "id": "c4d5d1c4",
   "metadata": {},
   "outputs": [
    {
     "data": {
      "text/html": [
       "<div>\n",
       "<style scoped>\n",
       "    .dataframe tbody tr th:only-of-type {\n",
       "        vertical-align: middle;\n",
       "    }\n",
       "\n",
       "    .dataframe tbody tr th {\n",
       "        vertical-align: top;\n",
       "    }\n",
       "\n",
       "    .dataframe thead th {\n",
       "        text-align: right;\n",
       "    }\n",
       "</style>\n",
       "<table border=\"1\" class=\"dataframe\">\n",
       "  <thead>\n",
       "    <tr style=\"text-align: right;\">\n",
       "      <th></th>\n",
       "      <th>numeric__Age</th>\n",
       "      <th>numeric__Annual Income (k$)</th>\n",
       "      <th>numeric__Spending Score (1-100)</th>\n",
       "      <th>remainder__Gender</th>\n",
       "    </tr>\n",
       "  </thead>\n",
       "  <tbody>\n",
       "    <tr>\n",
       "      <th>79</th>\n",
       "      <td>0.730279</td>\n",
       "      <td>-0.241904</td>\n",
       "      <td>-0.371138</td>\n",
       "      <td>Female</td>\n",
       "    </tr>\n",
       "    <tr>\n",
       "      <th>197</th>\n",
       "      <td>-0.500427</td>\n",
       "      <td>2.394554</td>\n",
       "      <td>0.843840</td>\n",
       "      <td>Male</td>\n",
       "    </tr>\n",
       "    <tr>\n",
       "      <th>38</th>\n",
       "      <td>-0.210849</td>\n",
       "      <td>-0.864401</td>\n",
       "      <td>-0.978626</td>\n",
       "      <td>Female</td>\n",
       "    </tr>\n",
       "    <tr>\n",
       "      <th>24</th>\n",
       "      <td>1.092251</td>\n",
       "      <td>-1.193959</td>\n",
       "      <td>-1.434243</td>\n",
       "      <td>Female</td>\n",
       "    </tr>\n",
       "    <tr>\n",
       "      <th>122</th>\n",
       "      <td>0.078729</td>\n",
       "      <td>0.307358</td>\n",
       "      <td>0.236351</td>\n",
       "      <td>Female</td>\n",
       "    </tr>\n",
       "  </tbody>\n",
       "</table>\n",
       "</div>"
      ],
      "text/plain": [
       "     numeric__Age  numeric__Annual Income (k$)  \\\n",
       "79       0.730279                    -0.241904   \n",
       "197     -0.500427                     2.394554   \n",
       "38      -0.210849                    -0.864401   \n",
       "24       1.092251                    -1.193959   \n",
       "122      0.078729                     0.307358   \n",
       "\n",
       "     numeric__Spending Score (1-100) remainder__Gender  \n",
       "79                         -0.371138            Female  \n",
       "197                         0.843840              Male  \n",
       "38                         -0.978626            Female  \n",
       "24                         -1.434243            Female  \n",
       "122                         0.236351            Female  "
      ]
     },
     "execution_count": 12,
     "metadata": {},
     "output_type": "execute_result"
    }
   ],
   "source": [
    "train_data_norm.head()"
   ]
  },
  {
   "cell_type": "markdown",
   "id": "ef592f82",
   "metadata": {},
   "source": [
    "# Q5"
   ]
  },
  {
   "cell_type": "code",
   "execution_count": 13,
   "id": "3e4a8e45",
   "metadata": {},
   "outputs": [],
   "source": [
    "train_data_norm_cat = train_data_norm.replace(['Female', 'Male'], [1, 0])\n",
    "test_data_norm_cat = test_data_norm.replace(['Female', 'Male'], [1, 0])"
   ]
  },
  {
   "cell_type": "code",
   "execution_count": 14,
   "id": "ab5b42e0",
   "metadata": {},
   "outputs": [
    {
     "data": {
      "text/html": [
       "<div>\n",
       "<style scoped>\n",
       "    .dataframe tbody tr th:only-of-type {\n",
       "        vertical-align: middle;\n",
       "    }\n",
       "\n",
       "    .dataframe tbody tr th {\n",
       "        vertical-align: top;\n",
       "    }\n",
       "\n",
       "    .dataframe thead th {\n",
       "        text-align: right;\n",
       "    }\n",
       "</style>\n",
       "<table border=\"1\" class=\"dataframe\">\n",
       "  <thead>\n",
       "    <tr style=\"text-align: right;\">\n",
       "      <th></th>\n",
       "      <th>numeric__Age</th>\n",
       "      <th>numeric__Annual Income (k$)</th>\n",
       "      <th>numeric__Spending Score (1-100)</th>\n",
       "      <th>remainder__Gender</th>\n",
       "    </tr>\n",
       "  </thead>\n",
       "  <tbody>\n",
       "    <tr>\n",
       "      <th>79</th>\n",
       "      <td>0.730279</td>\n",
       "      <td>-0.241904</td>\n",
       "      <td>-0.371138</td>\n",
       "      <td>1</td>\n",
       "    </tr>\n",
       "    <tr>\n",
       "      <th>197</th>\n",
       "      <td>-0.500427</td>\n",
       "      <td>2.394554</td>\n",
       "      <td>0.843840</td>\n",
       "      <td>0</td>\n",
       "    </tr>\n",
       "    <tr>\n",
       "      <th>38</th>\n",
       "      <td>-0.210849</td>\n",
       "      <td>-0.864401</td>\n",
       "      <td>-0.978626</td>\n",
       "      <td>1</td>\n",
       "    </tr>\n",
       "    <tr>\n",
       "      <th>24</th>\n",
       "      <td>1.092251</td>\n",
       "      <td>-1.193959</td>\n",
       "      <td>-1.434243</td>\n",
       "      <td>1</td>\n",
       "    </tr>\n",
       "    <tr>\n",
       "      <th>122</th>\n",
       "      <td>0.078729</td>\n",
       "      <td>0.307358</td>\n",
       "      <td>0.236351</td>\n",
       "      <td>1</td>\n",
       "    </tr>\n",
       "  </tbody>\n",
       "</table>\n",
       "</div>"
      ],
      "text/plain": [
       "     numeric__Age  numeric__Annual Income (k$)  \\\n",
       "79       0.730279                    -0.241904   \n",
       "197     -0.500427                     2.394554   \n",
       "38      -0.210849                    -0.864401   \n",
       "24       1.092251                    -1.193959   \n",
       "122      0.078729                     0.307358   \n",
       "\n",
       "     numeric__Spending Score (1-100)  remainder__Gender  \n",
       "79                         -0.371138                  1  \n",
       "197                         0.843840                  0  \n",
       "38                         -0.978626                  1  \n",
       "24                         -1.434243                  1  \n",
       "122                         0.236351                  1  "
      ]
     },
     "execution_count": 14,
     "metadata": {},
     "output_type": "execute_result"
    }
   ],
   "source": [
    "train_data_norm_cat.head()"
   ]
  },
  {
   "cell_type": "code",
   "execution_count": 15,
   "id": "1bd458a7",
   "metadata": {},
   "outputs": [
    {
     "data": {
      "text/html": [
       "<div>\n",
       "<style scoped>\n",
       "    .dataframe tbody tr th:only-of-type {\n",
       "        vertical-align: middle;\n",
       "    }\n",
       "\n",
       "    .dataframe tbody tr th {\n",
       "        vertical-align: top;\n",
       "    }\n",
       "\n",
       "    .dataframe thead th {\n",
       "        text-align: right;\n",
       "    }\n",
       "</style>\n",
       "<table border=\"1\" class=\"dataframe\">\n",
       "  <thead>\n",
       "    <tr style=\"text-align: right;\">\n",
       "      <th></th>\n",
       "      <th>numeric__Age</th>\n",
       "      <th>numeric__Annual Income (k$)</th>\n",
       "      <th>numeric__Spending Score (1-100)</th>\n",
       "      <th>remainder__Gender</th>\n",
       "    </tr>\n",
       "  </thead>\n",
       "  <tbody>\n",
       "    <tr>\n",
       "      <th>95</th>\n",
       "      <td>-1.013571</td>\n",
       "      <td>-0.017704</td>\n",
       "      <td>0.364717</td>\n",
       "      <td>0</td>\n",
       "    </tr>\n",
       "    <tr>\n",
       "      <th>15</th>\n",
       "      <td>-1.152417</td>\n",
       "      <td>-1.906084</td>\n",
       "      <td>1.580440</td>\n",
       "      <td>0</td>\n",
       "    </tr>\n",
       "    <tr>\n",
       "      <th>30</th>\n",
       "      <td>1.485645</td>\n",
       "      <td>-1.433989</td>\n",
       "      <td>-1.796568</td>\n",
       "      <td>0</td>\n",
       "    </tr>\n",
       "    <tr>\n",
       "      <th>158</th>\n",
       "      <td>-0.319344</td>\n",
       "      <td>0.832068</td>\n",
       "      <td>-1.931649</td>\n",
       "      <td>0</td>\n",
       "    </tr>\n",
       "    <tr>\n",
       "      <th>128</th>\n",
       "      <td>1.416223</td>\n",
       "      <td>0.501601</td>\n",
       "      <td>-1.481381</td>\n",
       "      <td>0</td>\n",
       "    </tr>\n",
       "  </tbody>\n",
       "</table>\n",
       "</div>"
      ],
      "text/plain": [
       "     numeric__Age  numeric__Annual Income (k$)  \\\n",
       "95      -1.013571                    -0.017704   \n",
       "15      -1.152417                    -1.906084   \n",
       "30       1.485645                    -1.433989   \n",
       "158     -0.319344                     0.832068   \n",
       "128      1.416223                     0.501601   \n",
       "\n",
       "     numeric__Spending Score (1-100)  remainder__Gender  \n",
       "95                          0.364717                  0  \n",
       "15                          1.580440                  0  \n",
       "30                         -1.796568                  0  \n",
       "158                        -1.931649                  0  \n",
       "128                        -1.481381                  0  "
      ]
     },
     "execution_count": 15,
     "metadata": {},
     "output_type": "execute_result"
    }
   ],
   "source": [
    "test_data_norm_cat.head()"
   ]
  },
  {
   "cell_type": "markdown",
   "id": "f6ed935c",
   "metadata": {},
   "source": [
    "# Q6 - KMeans"
   ]
  },
  {
   "cell_type": "code",
   "execution_count": 16,
   "id": "341e1914",
   "metadata": {},
   "outputs": [],
   "source": [
    "from sklearn.cluster import KMeans"
   ]
  },
  {
   "cell_type": "code",
   "execution_count": 17,
   "id": "66e78291",
   "metadata": {},
   "outputs": [],
   "source": [
    "def kmeans(k, data, n_init=5):\n",
    "    kmeans = KMeans(n_clusters=k, n_init=n_init)\n",
    "    kmeans.fit_transform(data)\n",
    "    return kmeans.cluster_centers_, kmeans.labels_, kmeans.inertia_, kmeans"
   ]
  },
  {
   "cell_type": "markdown",
   "id": "a9712c90-2d52-48ef-b06d-10e86c55acdd",
   "metadata": {},
   "source": [
    "# Q7"
   ]
  },
  {
   "cell_type": "code",
   "execution_count": 18,
   "id": "4ba966fc",
   "metadata": {},
   "outputs": [
    {
     "data": {
      "image/png": "[encoded data removed]",
      "text/plain": [
       "<Figure size 1000x500 with 2 Axes>"
      ]
     },
     "metadata": {},
     "output_type": "display_data"
    }
   ],
   "source": [
    "import numpy as np\n",
    "import matplotlib.pyplot as plt\n",
    "from sklearn.cluster import KMeans\n",
    "from sklearn.metrics import silhouette_score\n",
    "from sklearn.preprocessing import StandardScaler\n",
    "\n",
    "k_values = range(2, 11)\n",
    "\n",
    "distortions = []\n",
    "labels = []\n",
    "models = []\n",
    "\n",
    "for k in k_values:\n",
    "    cluster_center, label, distortion, model = kmeans(k, train_data_norm_cat)\n",
    "    distortions.append(distortion)\n",
    "    labels.append(label)\n",
    "    models.append(model)\n",
    "\n",
    "# Elbow Method\n",
    "plt.figure(figsize=(10, 5))\n",
    "plt.subplot(1, 2, 1)\n",
    "plt.plot(k_values, distortions, marker='o')\n",
    "plt.title('Elbow Method')\n",
    "plt.xlabel('Number of Clusters (k)')\n",
    "plt.ylabel('Distortion')\n",
    "\n",
    "# Silhouette Method\n",
    "silhouette_scores = [silhouette_score(train_data_norm_cat, labels[k - 2]) for k in k_values]\n",
    "plt.subplot(1, 2, 2)\n",
    "plt.plot(k_values, silhouette_scores, marker='o')\n",
    "plt.title('Silhouette Method')\n",
    "plt.xlabel('Number of Clusters (k)')\n",
    "plt.ylabel('Silhouette Score')\n",
    "\n",
    "plt.tight_layout()\n",
    "plt.show()\n"
   ]
  },
  {
   "cell_type": "markdown",
   "id": "50711ebf-d659-4732-8bfe-c8f576b7b4c7",
   "metadata": {},
   "source": [
    "best number of clusters is 5, if we consider the elbow method we can see that the elbow of the curve is at 5, if we consider silhouette method again we see that the max value for silhouette score is at k = 5. so we choose 5."
   ]
  },
  {
   "cell_type": "code",
   "execution_count": 19,
   "id": "e0ea90a4-8a82-46dd-9058-c87d47b5de05",
   "metadata": {},
   "outputs": [],
   "source": [
    "best_k = 5"
   ]
  },
  {
   "cell_type": "markdown",
   "id": "fcdee9bd-e109-41b5-8ea5-50cee31dc6cc",
   "metadata": {},
   "source": [
    "# Q8"
   ]
  },
  {
   "cell_type": "code",
   "execution_count": 20,
   "id": "d0c463e7-f6c4-480f-916b-086b707a807b",
   "metadata": {},
   "outputs": [],
   "source": [
    "model = models[best_k - 2]"
   ]
  },
  {
   "cell_type": "code",
   "execution_count": 21,
   "id": "116f7992-9274-46ff-9b50-6465ed959c89",
   "metadata": {},
   "outputs": [],
   "source": [
    "pred = model.predict(test_data_norm_cat)"
   ]
  },
  {
   "cell_type": "markdown",
   "id": "57e58a86-1b91-425f-a0f5-95db5e06e274",
   "metadata": {},
   "source": [
    "# Q9"
   ]
  },
  {
   "cell_type": "code",
   "execution_count": 22,
   "id": "dd82616d-31ba-413d-915e-cc4de8f526d3",
   "metadata": {},
   "outputs": [],
   "source": [
    "test_data_rest = test_data.reset_index(drop=True)"
   ]
  },
  {
   "cell_type": "code",
   "execution_count": 23,
   "id": "fdf10fca-aa14-4492-8380-1cd44076ba54",
   "metadata": {},
   "outputs": [],
   "source": [
    "results = pd.concat([test_data_rest, pd.Series(pred, name='predicted_cluster')], axis=1)"
   ]
  },
  {
   "cell_type": "code",
   "execution_count": 24,
   "id": "d59baa8a-f427-4751-878e-6896a7d782a4",
   "metadata": {},
   "outputs": [],
   "source": [
    "results.to_csv('predicts.csv', index=False)"
   ]
  },
  {
   "cell_type": "markdown",
   "id": "f3d96857-f267-4e74-8ff7-f0ee1499fee1",
   "metadata": {},
   "source": [
    "# Q10"
   ]
  },
  {
   "cell_type": "code",
   "execution_count": 25,
   "id": "8285432d-b3f1-449d-a38c-dc141f6c7cd1",
   "metadata": {},
   "outputs": [],
   "source": [
    "from sklearn.decomposition import PCA"
   ]
  },
  {
   "cell_type": "code",
   "execution_count": 26,
   "id": "d72eb1d8-5f74-4a42-99dc-6d468b3eb9ce",
   "metadata": {},
   "outputs": [],
   "source": [
    "pca = PCA(n_components=2)\n",
    "pca_train_result = pca.fit_transform(train_data_norm_cat)\n",
    "pca_test_result = pca.fit_transform(test_data_norm_cat)\n",
    "\n",
    "\n",
    "pca_train_df = pd.DataFrame(data=pca_train_result, columns=['PCA1', 'PCA2'])\n",
    "pca_test_df = pd.DataFrame(data=pca_test_result, columns=['PCA1', 'PCA2'])\n"
   ]
  },
  {
   "cell_type": "code",
   "execution_count": 27,
   "id": "950c3f1b-5ac0-4022-86be-47048f16d46a",
   "metadata": {},
   "outputs": [
    {
     "data": {
      "text/html": [
       "<div>\n",
       "<style scoped>\n",
       "    .dataframe tbody tr th:only-of-type {\n",
       "        vertical-align: middle;\n",
       "    }\n",
       "\n",
       "    .dataframe tbody tr th {\n",
       "        vertical-align: top;\n",
       "    }\n",
       "\n",
       "    .dataframe thead th {\n",
       "        text-align: right;\n",
       "    }\n",
       "</style>\n",
       "<table border=\"1\" class=\"dataframe\">\n",
       "  <thead>\n",
       "    <tr style=\"text-align: right;\">\n",
       "      <th></th>\n",
       "      <th>PCA1</th>\n",
       "      <th>PCA2</th>\n",
       "    </tr>\n",
       "  </thead>\n",
       "  <tbody>\n",
       "    <tr>\n",
       "      <th>0</th>\n",
       "      <td>0.799455</td>\n",
       "      <td>-0.531192</td>\n",
       "    </tr>\n",
       "    <tr>\n",
       "      <th>1</th>\n",
       "      <td>2.525215</td>\n",
       "      <td>0.910743</td>\n",
       "    </tr>\n",
       "    <tr>\n",
       "      <th>2</th>\n",
       "      <td>-1.532567</td>\n",
       "      <td>2.092732</td>\n",
       "    </tr>\n",
       "    <tr>\n",
       "      <th>3</th>\n",
       "      <td>-1.550746</td>\n",
       "      <td>-0.787386</td>\n",
       "    </tr>\n",
       "    <tr>\n",
       "      <th>4</th>\n",
       "      <td>-2.100171</td>\n",
       "      <td>0.465290</td>\n",
       "    </tr>\n",
       "  </tbody>\n",
       "</table>\n",
       "</div>"
      ],
      "text/plain": [
       "       PCA1      PCA2\n",
       "0  0.799455 -0.531192\n",
       "1  2.525215  0.910743\n",
       "2 -1.532567  2.092732\n",
       "3 -1.550746 -0.787386\n",
       "4 -2.100171  0.465290"
      ]
     },
     "execution_count": 27,
     "metadata": {},
     "output_type": "execute_result"
    }
   ],
   "source": [
    "pca_test_df.head()"
   ]
  },
  {
   "cell_type": "code",
   "execution_count": 28,
   "id": "2a433eb4-d4d4-4b31-8b77-bd11fb2c8dda",
   "metadata": {},
   "outputs": [
    {
     "data": {
      "text/html": [
       "<div>\n",
       "<style scoped>\n",
       "    .dataframe tbody tr th:only-of-type {\n",
       "        vertical-align: middle;\n",
       "    }\n",
       "\n",
       "    .dataframe tbody tr th {\n",
       "        vertical-align: top;\n",
       "    }\n",
       "\n",
       "    .dataframe thead th {\n",
       "        text-align: right;\n",
       "    }\n",
       "</style>\n",
       "<table border=\"1\" class=\"dataframe\">\n",
       "  <thead>\n",
       "    <tr style=\"text-align: right;\">\n",
       "      <th></th>\n",
       "      <th>PCA1</th>\n",
       "      <th>PCA2</th>\n",
       "    </tr>\n",
       "  </thead>\n",
       "  <tbody>\n",
       "    <tr>\n",
       "      <th>0</th>\n",
       "      <td>0.802477</td>\n",
       "      <td>-0.093216</td>\n",
       "    </tr>\n",
       "    <tr>\n",
       "      <th>1</th>\n",
       "      <td>-1.369898</td>\n",
       "      <td>2.216659</td>\n",
       "    </tr>\n",
       "    <tr>\n",
       "      <th>2</th>\n",
       "      <td>0.693793</td>\n",
       "      <td>-0.839667</td>\n",
       "    </tr>\n",
       "    <tr>\n",
       "      <th>3</th>\n",
       "      <td>1.972032</td>\n",
       "      <td>-0.882292</td>\n",
       "    </tr>\n",
       "    <tr>\n",
       "      <th>4</th>\n",
       "      <td>-0.173404</td>\n",
       "      <td>0.278036</td>\n",
       "    </tr>\n",
       "  </tbody>\n",
       "</table>\n",
       "</div>"
      ],
      "text/plain": [
       "       PCA1      PCA2\n",
       "0  0.802477 -0.093216\n",
       "1 -1.369898  2.216659\n",
       "2  0.693793 -0.839667\n",
       "3  1.972032 -0.882292\n",
       "4 -0.173404  0.278036"
      ]
     },
     "execution_count": 28,
     "metadata": {},
     "output_type": "execute_result"
    }
   ],
   "source": [
    "pca_train_df.head()"
   ]
  },
  {
   "cell_type": "markdown",
   "id": "02c6ec1a-f72e-4ddc-a506-ae24fe3bc1be",
   "metadata": {},
   "source": [
    "# Q11"
   ]
  },
  {
   "cell_type": "code",
   "execution_count": 29,
   "id": "771faccb-623b-4e97-9513-e1dd4bf2d241",
   "metadata": {},
   "outputs": [],
   "source": [
    "pca_cluster_center, pca_label, pca_distortion, pca_model = kmeans(best_k, pca_train_df)"
   ]
  },
  {
   "cell_type": "code",
   "execution_count": 30,
   "id": "6d97dcaf-ac18-4046-abab-65adb85a8622",
   "metadata": {},
   "outputs": [],
   "source": [
    "pca_pred = pca_model.predict(pca_test_df)"
   ]
  },
  {
   "cell_type": "code",
   "execution_count": 31,
   "id": "9c6893f0-0771-4a9d-be68-b352b021fd69",
   "metadata": {},
   "outputs": [],
   "source": [
    "test_data_rest = test_data.reset_index(drop=True)\n",
    "\n",
    "results = pd.concat([test_data_rest, pd.Series(pred, name='predicted_cluster'), pd.Series(pca_pred, name='pca_predicted_cluster')], axis=1)\n",
    "results.to_csv('predicts.csv', index=False)"
   ]
  },
  {
   "cell_type": "markdown",
   "id": "fd9e0629-2379-4e1a-87c9-e3a1740174f9",
   "metadata": {},
   "source": [
    "# Q12"
   ]
  },
  {
   "cell_type": "code",
   "execution_count": 32,
   "id": "9cc03a32-f4c2-478f-b8cb-1e37a89f13be",
   "metadata": {},
   "outputs": [
    {
     "data": {
      "text/plain": [
       "<matplotlib.collections.PathCollection at 0x163b8ede0>"
      ]
     },
     "execution_count": 32,
     "metadata": {},
     "output_type": "execute_result"
    },
    {
     "data": {
      "image/png": "[encoded data removed]",
      "text/plain": [
       "<Figure size 640x480 with 1 Axes>"
      ]
     },
     "metadata": {},
     "output_type": "display_data"
    }
   ],
   "source": [
    "plt.set_cmap(\"rainbow_r\")\n",
    "plt.scatter(pca_train_df['PCA1'], pca_train_df['PCA2'], c=pca_label, alpha=0.4)\n",
    "plt.scatter(pca_test_df['PCA1'], pca_test_df['PCA2'], c=pca_pred, marker=\">\")\n",
    "plt.scatter(pca_cluster_center[:, 0], pca_cluster_center[:, 1], color=(0,0,0), alpha=1 ,marker=\"+\" ,linewidths=2)"
   ]
  },
  {
   "cell_type": "code",
   "execution_count": null,
   "id": "97759789-2747-43c5-8200-5eccf0e4fd5b",
   "metadata": {},
   "outputs": [],
   "source": []
  },
  {
   "cell_type": "code",
   "execution_count": null,
   "id": "190422d7-f0be-4448-9f6d-f46d1797eca2",
   "metadata": {},
   "outputs": [],
   "source": []
  },
  {
   "cell_type": "code",
   "execution_count": null,
   "id": "b2844033-8045-4a2c-8a35-ea3827adaf25",
   "metadata": {},
   "outputs": [],
   "source": []
  }
 ],
 "metadata": {
  "kernelspec": {
   "display_name": "Python 3 (ipykernel)",
   "language": "python",
   "name": "python3"
  },
  "language_info": {
   "codemirror_mode": {
    "name": "ipython",
    "version": 3
   },
   "file_extension": ".py",
   "mimetype": "text/x-python",
   "name": "python",
   "nbconvert_exporter": "python",
   "pygments_lexer": "ipython3",
   "version": "3.12.0"
  }
 },
 "nbformat": 4,
 "nbformat_minor": 5
}
