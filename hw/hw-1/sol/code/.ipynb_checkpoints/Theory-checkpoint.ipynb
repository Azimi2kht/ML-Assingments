{
 "cells": [
  {
   "cell_type": "code",
   "execution_count": 1,
   "metadata": {},
   "outputs": [],
   "source": [
    "import pandas as pd\n",
    "from sklearn.model_selection import train_test_split\n",
    "import numpy as np\n",
    "from tqdm import tqdm\n",
    "import matplotlib.pyplot as plt\n",
    "from time import time\n",
    "from sklearn.linear_model import Lasso\n"
   ]
  },
  {
   "cell_type": "code",
   "execution_count": 2,
   "metadata": {},
   "outputs": [],
   "source": [
    "def MSE(X, weights, bias , Y):\n",
    "    pred = np.dot(X, weights)+bias\n",
    "    error = 0\n",
    "    for i in range(len(Y)):\n",
    "        error += (pred[i]-Y[i])**2\n",
    "    return error/len(Y)/2"
   ]
  },
  {
   "cell_type": "code",
   "execution_count": 3,
   "metadata": {},
   "outputs": [],
   "source": [
    "def MAE(X, weights, bias , Y):\n",
    "    pred = np.dot(X, weights)+bias\n",
    "    error = 0\n",
    "    for i in range(len(Y)):\n",
    "        error += np.abs(pred[i]-Y[i])\n",
    "    return error/len(Y)"
   ]
  },
  {
   "cell_type": "code",
   "execution_count": 4,
   "metadata": {},
   "outputs": [],
   "source": [
    "weights = np.array([[-0.15], [0.6]])\n",
    "bias = -59.5\n",
    "X = np.array([[41,138],[42,153],[37,151],[46,133]])\n",
    "Y = np.array([[37.99],[47.34],[44.38],[28.17]])"
   ]
  },
  {
   "cell_type": "code",
   "execution_count": 5,
   "metadata": {},
   "outputs": [
    {
     "name": "stdout",
     "output_type": "stream",
     "text": [
      "[182.802875]\n"
     ]
    }
   ],
   "source": [
    "print(MSE(X, weights, bias, Y))"
   ]
  },
  {
   "cell_type": "code",
   "execution_count": 6,
   "metadata": {},
   "outputs": [
    {
     "name": "stdout",
     "output_type": "stream",
     "text": [
      "[18.945]\n"
     ]
    }
   ],
   "source": [
    "print(MAE(X, weights, bias, Y))"
   ]
  },
  {
   "cell_type": "code",
   "execution_count": 7,
   "metadata": {},
   "outputs": [],
   "source": [
    "learning_rate = 0.1"
   ]
  },
  {
   "cell_type": "code",
   "execution_count": 8,
   "metadata": {},
   "outputs": [
    {
     "data": {
      "text/plain": [
       "array([17.15])"
      ]
     },
     "execution_count": 8,
     "metadata": {},
     "output_type": "execute_result"
    }
   ],
   "source": [
    "np.dot(X[0,:], weights) + bias"
   ]
  },
  {
   "cell_type": "code",
   "execution_count": 36,
   "metadata": {},
   "outputs": [
    {
     "name": "stdout",
     "output_type": "stream",
     "text": [
      "Delta Weights: [ -85.444 -287.592] delta bias: [-2.084]\n"
     ]
    }
   ],
   "source": [
    "prediction = np.dot(X[0,:], weights) + bias\n",
    "\n",
    "dev_weights = learning_rate * ((prediction - Y[0]) * X[0])\n",
    "dev_bias = learning_rate * (prediction - Y[0])\n",
    "print(f'Delta Weights: {dev_weights.reshape((-1))} delta bias: {dev_bias}')"
   ]
  },
  {
   "cell_type": "code",
   "execution_count": 37,
   "metadata": {},
   "outputs": [
    {
     "data": {
      "text/plain": [
       "array([17.15])"
      ]
     },
     "execution_count": 37,
     "metadata": {},
     "output_type": "execute_result"
    }
   ],
   "source": [
    "prediction"
   ]
  },
  {
   "cell_type": "code",
   "execution_count": 38,
   "metadata": {},
   "outputs": [
    {
     "data": {
      "text/plain": [
       "array([[-0.15],\n",
       "       [ 0.6 ]])"
      ]
     },
     "execution_count": 38,
     "metadata": {},
     "output_type": "execute_result"
    }
   ],
   "source": [
    "weights"
   ]
  },
  {
   "cell_type": "code",
   "execution_count": null,
   "metadata": {},
   "outputs": [],
   "source": [
    "print(f'New Weights: {weights.reshape((-1))} bias: {bias}')\n"
   ]
  },
  {
   "cell_type": "code",
   "execution_count": 30,
   "metadata": {},
   "outputs": [
    {
     "data": {
      "text/plain": [
       "array([[372.886],\n",
       "       [373.636]])"
      ]
     },
     "execution_count": 30,
     "metadata": {},
     "output_type": "execute_result"
    }
   ],
   "source": [
    "weights"
   ]
  },
  {
   "cell_type": "code",
   "execution_count": null,
   "metadata": {},
   "outputs": [],
   "source": [
    "def stochastic_gradient_descent_linear_reggression(data, target, learning_rate, epochs):\n",
    "    def prediction_calc(data, weights, bias):\n",
    "        pred = 0\n",
    "        for i in range(len(data)):\n",
    "            pred += data[i]*weights[i]\n",
    "        pred += bias\n",
    "        return pred  \n",
    "    n_sample = data.shape[0]\n",
    "    weights = np.zeros(shape=(data.shape[-1],1))\n",
    "    bias = 0\n",
    "    hist = []\n",
    "\n",
    "    for epoch in tqdm(range(epochs), desc=\"Training Process\"):\n",
    "        permutation = np.random.permutation(n_sample)\n",
    "        X_shuffle = data[permutation]\n",
    "        Y_shuffle = target[permutation]\n",
    "        for index in range(0,n_sample):\n",
    "            prediction = prediction_calc(X_shuffle[index], weights, bias)\n",
    "            hist.append(MSE(prediction, Y_shuffle[index]))\n",
    "            weights -= learning_rate * (np.sum((prediction - Y_shuffle[index]) * X_shuffle[index], axis=0)).reshape((-1,1))\n",
    "            bias -= learning_rate * (np.sum((prediction - Y_shuffle[index]), axis=0))\n",
    "    return weights, bias, hist"
   ]
  },
  {
   "cell_type": "code",
   "execution_count": null,
   "metadata": {},
   "outputs": [],
   "source": [
    "def stochastic_gradient_descent_linear_reggression(data, target, learning_rate, epochs):\n",
    "    def prediction_calc(data, weights, bias):\n",
    "        pred = 0\n",
    "        for i in range(len(data)):\n",
    "            pred += data[i]*weights[i]\n",
    "        pred += bias\n",
    "        return pred  \n",
    "    n_sample = data.shape[0]\n",
    "    weights = np.zeros(shape=(data.shape[-1],1))\n",
    "    bias = 0\n",
    "    hist = []\n",
    "\n",
    "    for epoch in tqdm(range(epochs), desc=\"Training Process\"):\n",
    "        permutation = np.random.permutation(n_sample)\n",
    "        X_shuffle = data[permutation]\n",
    "        Y_shuffle = target[permutation]\n",
    "        for index in range(0,n_sample):\n",
    "            prediction = prediction_calc(X_shuffle[index], weights, bias)\n",
    "            hist.append(MSE(prediction, Y_shuffle[index]))\n",
    "            weights -= learning_rate * (np.sum((prediction - Y_shuffle[index]) * X_shuffle[index], axis=0)).reshape((-1,1))\n",
    "            bias -= learning_rate * (np.sum((prediction - Y_shuffle[index]), axis=0))\n",
    "    return weights, bias, hist"
   ]
  }
 ],
 "metadata": {
  "kernelspec": {
   "display_name": "Python 3 (ipykernel)",
   "language": "python",
   "name": "python3"
  },
  "language_info": {
   "codemirror_mode": {
    "name": "ipython",
    "version": 3
   },
   "file_extension": ".py",
   "mimetype": "text/x-python",
   "name": "python",
   "nbconvert_exporter": "python",
   "pygments_lexer": "ipython3",
   "version": "3.9.13"
  }
 },
 "nbformat": 4,
 "nbformat_minor": 2
}
