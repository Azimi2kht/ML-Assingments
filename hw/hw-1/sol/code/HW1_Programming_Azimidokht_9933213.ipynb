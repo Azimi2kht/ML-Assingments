{
 "cells": [
  {
   "cell_type": "markdown",
   "id": "3ea9771d",
   "metadata": {},
   "source": [
    "# Q1"
   ]
  },
  {
   "cell_type": "code",
   "execution_count": 1,
   "id": "b50e00d3",
   "metadata": {},
   "outputs": [],
   "source": [
    "import numpy as np\n",
    "import pandas as pd\n",
    "import time"
   ]
  },
  {
   "cell_type": "markdown",
   "id": "a51c8ec5",
   "metadata": {},
   "source": [
    "## A)"
   ]
  },
  {
   "cell_type": "markdown",
   "id": "ff9ee570",
   "metadata": {},
   "source": [
    "### Importing Data"
   ]
  },
  {
   "cell_type": "code",
   "execution_count": 2,
   "id": "21603dc1",
   "metadata": {},
   "outputs": [],
   "source": [
    "house_data = pd.read_csv(\"./data/house_prices.csv\")"
   ]
  },
  {
   "cell_type": "code",
   "execution_count": 3,
   "id": "58d3cedd",
   "metadata": {},
   "outputs": [],
   "source": [
    "x, y = house_data.drop([\"price\"], axis=1) ,house_data[\"price\"]"
   ]
  },
  {
   "cell_type": "code",
   "execution_count": 4,
   "id": "2146f96a",
   "metadata": {},
   "outputs": [
    {
     "data": {
      "text/plain": [
       "((545, 8), (545,))"
      ]
     },
     "execution_count": 4,
     "metadata": {},
     "output_type": "execute_result"
    }
   ],
   "source": [
    "x.shape, y.shape"
   ]
  },
  {
   "cell_type": "code",
   "execution_count": 5,
   "id": "0389a64d",
   "metadata": {},
   "outputs": [
    {
     "data": {
      "text/html": [
       "<div>\n",
       "<style scoped>\n",
       "    .dataframe tbody tr th:only-of-type {\n",
       "        vertical-align: middle;\n",
       "    }\n",
       "\n",
       "    .dataframe tbody tr th {\n",
       "        vertical-align: top;\n",
       "    }\n",
       "\n",
       "    .dataframe thead th {\n",
       "        text-align: right;\n",
       "    }\n",
       "</style>\n",
       "<table border=\"1\" class=\"dataframe\">\n",
       "  <thead>\n",
       "    <tr style=\"text-align: right;\">\n",
       "      <th></th>\n",
       "      <th>area</th>\n",
       "      <th>bedrooms</th>\n",
       "      <th>bathrooms</th>\n",
       "      <th>stories</th>\n",
       "      <th>mainroad</th>\n",
       "      <th>guestroom</th>\n",
       "      <th>basement</th>\n",
       "      <th>parking</th>\n",
       "    </tr>\n",
       "  </thead>\n",
       "  <tbody>\n",
       "    <tr>\n",
       "      <th>0</th>\n",
       "      <td>7420</td>\n",
       "      <td>4</td>\n",
       "      <td>2</td>\n",
       "      <td>3</td>\n",
       "      <td>1</td>\n",
       "      <td>0</td>\n",
       "      <td>0</td>\n",
       "      <td>2</td>\n",
       "    </tr>\n",
       "    <tr>\n",
       "      <th>1</th>\n",
       "      <td>8960</td>\n",
       "      <td>4</td>\n",
       "      <td>4</td>\n",
       "      <td>4</td>\n",
       "      <td>1</td>\n",
       "      <td>0</td>\n",
       "      <td>0</td>\n",
       "      <td>3</td>\n",
       "    </tr>\n",
       "    <tr>\n",
       "      <th>2</th>\n",
       "      <td>9960</td>\n",
       "      <td>3</td>\n",
       "      <td>2</td>\n",
       "      <td>2</td>\n",
       "      <td>1</td>\n",
       "      <td>0</td>\n",
       "      <td>1</td>\n",
       "      <td>2</td>\n",
       "    </tr>\n",
       "    <tr>\n",
       "      <th>3</th>\n",
       "      <td>7500</td>\n",
       "      <td>4</td>\n",
       "      <td>2</td>\n",
       "      <td>2</td>\n",
       "      <td>1</td>\n",
       "      <td>0</td>\n",
       "      <td>1</td>\n",
       "      <td>3</td>\n",
       "    </tr>\n",
       "    <tr>\n",
       "      <th>4</th>\n",
       "      <td>7420</td>\n",
       "      <td>4</td>\n",
       "      <td>1</td>\n",
       "      <td>2</td>\n",
       "      <td>1</td>\n",
       "      <td>1</td>\n",
       "      <td>1</td>\n",
       "      <td>2</td>\n",
       "    </tr>\n",
       "  </tbody>\n",
       "</table>\n",
       "</div>"
      ],
      "text/plain": [
       "   area  bedrooms  bathrooms  stories  mainroad  guestroom  basement  parking\n",
       "0  7420         4          2        3         1          0         0        2\n",
       "1  8960         4          4        4         1          0         0        3\n",
       "2  9960         3          2        2         1          0         1        2\n",
       "3  7500         4          2        2         1          0         1        3\n",
       "4  7420         4          1        2         1          1         1        2"
      ]
     },
     "execution_count": 5,
     "metadata": {},
     "output_type": "execute_result"
    }
   ],
   "source": [
    "x.head()"
   ]
  },
  {
   "cell_type": "code",
   "execution_count": 6,
   "id": "b3783183",
   "metadata": {},
   "outputs": [
    {
     "name": "stdout",
     "output_type": "stream",
     "text": [
      "min info:\n",
      "area         1650\n",
      "bedrooms        1\n",
      "bathrooms       1\n",
      "stories         1\n",
      "mainroad        0\n",
      "guestroom       0\n",
      "basement        0\n",
      "parking         0\n",
      "dtype: int64\n",
      "--------------------\n",
      "max info:\n",
      "area         16200\n",
      "bedrooms         6\n",
      "bathrooms        4\n",
      "stories          4\n",
      "mainroad         1\n",
      "guestroom        1\n",
      "basement         1\n",
      "parking          3\n",
      "dtype: int64\n"
     ]
    }
   ],
   "source": [
    "print(\"min info:\")\n",
    "print(x.min())\n",
    "print('-' * 20)\n",
    "print(\"max info:\")\n",
    "print(x.max())"
   ]
  },
  {
   "cell_type": "code",
   "execution_count": 7,
   "id": "fa77994b",
   "metadata": {},
   "outputs": [
    {
     "data": {
      "text/plain": [
       "0    791000\n",
       "1    919000\n",
       "2    994000\n",
       "3    811000\n",
       "4    801000\n",
       "Name: price, dtype: int64"
      ]
     },
     "execution_count": 7,
     "metadata": {},
     "output_type": "execute_result"
    }
   ],
   "source": [
    "y.head()"
   ]
  },
  {
   "cell_type": "markdown",
   "id": "b805a312",
   "metadata": {},
   "source": [
    "### Normalization"
   ]
  },
  {
   "cell_type": "code",
   "execution_count": 8,
   "id": "98cc699f",
   "metadata": {},
   "outputs": [],
   "source": [
    "def normalize(x, base=None):\n",
    "    if base:\n",
    "        mean = base[0]\n",
    "        std = base[1]\n",
    "        return (x - mean) / std\n",
    "    \n",
    "    mean = x.mean(axis=0)\n",
    "    std_dev = x.std(axis=0)\n",
    "    \n",
    "    # handling dev by zero:\n",
    "    std_dev[std_dev == 0] = 1\n",
    "    \n",
    "    normalized_x = (x - mean) / std_dev\n",
    "    return normalized_x, mean, std_dev"
   ]
  },
  {
   "cell_type": "code",
   "execution_count": 9,
   "id": "d46651a6",
   "metadata": {},
   "outputs": [],
   "source": [
    "x_norm, mean, std_dev = normalize(x)"
   ]
  },
  {
   "cell_type": "code",
   "execution_count": 10,
   "id": "759f8e3b",
   "metadata": {},
   "outputs": [
    {
     "name": "stdout",
     "output_type": "stream",
     "text": [
      "min info:\n",
      "area         1650\n",
      "bedrooms        1\n",
      "bathrooms       1\n",
      "stories         1\n",
      "mainroad        0\n",
      "guestroom       0\n",
      "basement        0\n",
      "parking         0\n",
      "dtype: int64\n",
      "--------------------\n",
      "max info:\n",
      "area         16200\n",
      "bedrooms         6\n",
      "bathrooms        4\n",
      "stories          4\n",
      "mainroad         1\n",
      "guestroom        1\n",
      "basement         1\n",
      "parking          3\n",
      "dtype: int64\n"
     ]
    }
   ],
   "source": [
    "print(\"min info:\")\n",
    "print(x.min())\n",
    "print('-' * 20)\n",
    "print(\"max info:\")\n",
    "print(x.max())"
   ]
  },
  {
   "cell_type": "markdown",
   "id": "a4db4152",
   "metadata": {},
   "source": [
    "## B)"
   ]
  },
  {
   "cell_type": "markdown",
   "id": "fac69543",
   "metadata": {},
   "source": [
    "### Batch GD"
   ]
  },
  {
   "cell_type": "code",
   "execution_count": 11,
   "id": "c20d6160",
   "metadata": {},
   "outputs": [],
   "source": [
    "def predict(x, w):\n",
    "    return x.dot(w)\n",
    "\n",
    "def mse(y_pred, y):\n",
    "    e = y_pred - y\n",
    "    return 0.5 * np.mean(e * e)\n",
    "\n",
    "def initial_weights(n):\n",
    "    return np.zeros(n)\n",
    "\n",
    "def compute_gradient(x, y, y_pred):\n",
    "    m = len(y)\n",
    "    e = y_pred - y\n",
    "    \n",
    "    gradient_w = (1/m) * x.T.dot(e)\n",
    "    \n",
    "    return gradient_w"
   ]
  },
  {
   "cell_type": "code",
   "execution_count": 12,
   "id": "3b4a15fb",
   "metadata": {},
   "outputs": [
    {
     "name": "stdout",
     "output_type": "stream",
     "text": [
      "number of features:  9\n"
     ]
    }
   ],
   "source": [
    "# adding bias term to features\n",
    "m = len(y)\n",
    "xb = np.hstack([x_norm, np.ones((m, 1))])\n",
    "n_features = xb.shape[1]\n",
    "print(\"number of features: \", n_features)"
   ]
  },
  {
   "cell_type": "code",
   "execution_count": 13,
   "id": "e8fd3160",
   "metadata": {},
   "outputs": [],
   "source": [
    "initial_w = initial_weights(n_features)"
   ]
  },
  {
   "cell_type": "markdown",
   "id": "f52d10dc",
   "metadata": {},
   "source": [
    "### settings"
   ]
  },
  {
   "cell_type": "code",
   "execution_count": 14,
   "id": "2447b0e8",
   "metadata": {},
   "outputs": [],
   "source": [
    "n_epochs = 80\n",
    "batch_epochs = n_epochs\n",
    "lr = 0.08"
   ]
  },
  {
   "cell_type": "code",
   "execution_count": 15,
   "id": "e8d565b7",
   "metadata": {},
   "outputs": [],
   "source": [
    "def gradient_descent(x, y, initial_w, max_iter, lr):\n",
    "    losses = []\n",
    "    w = initial_w\n",
    "    for iteration in range(max_iter):\n",
    "        prediction = predict(x, w)\n",
    "        loss = mse(prediction, y)\n",
    "        gradient = compute_gradient(x, y, prediction)\n",
    "        w -= lr * gradient\n",
    "        losses.append(loss)\n",
    "        \n",
    "    return w, losses"
   ]
  },
  {
   "cell_type": "code",
   "execution_count": 16,
   "id": "f5f77ec7",
   "metadata": {},
   "outputs": [
    {
     "name": "stdout",
     "output_type": "stream",
     "text": [
      "batch training time: 0.01468801498413086s\n",
      "last iteration loss:  18905658.352065586\n"
     ]
    }
   ],
   "source": [
    "from matplotlib import pyplot as plt\n",
    "\n",
    "tic = time.time()\n",
    "w, losses = gradient_descent(xb, y, initial_w, n_epochs, lr)\n",
    "tok = time.time()\n",
    "\n",
    "batch_time = tok - tic\n",
    "\n",
    "w_batch = w\n",
    "print(f\"batch training time: {batch_time}s\")\n",
    "print(\"last iteration loss: \", losses[-1])"
   ]
  },
  {
   "cell_type": "code",
   "execution_count": 17,
   "id": "982703e3",
   "metadata": {},
   "outputs": [
    {
     "name": "stdout",
     "output_type": "stream",
     "text": [
      "weights:  [155987.96593602   1850.8641151    1486.06146937   5738.41833977\n",
      "   5357.15693232   2628.74644699  11394.43664686   7992.68545453\n",
      " 607038.63741661]\n"
     ]
    }
   ],
   "source": [
    "print(\"weights: \", w)"
   ]
  },
  {
   "cell_type": "markdown",
   "id": "cce7da3e",
   "metadata": {},
   "source": [
    "### Plotting"
   ]
  },
  {
   "cell_type": "code",
   "execution_count": 18,
   "id": "5721e568",
   "metadata": {},
   "outputs": [
    {
     "data": {
      "text/plain": [
       "[<matplotlib.lines.Line2D at 0x134a5b610>]"
      ]
     },
     "execution_count": 18,
     "metadata": {},
     "output_type": "execute_result"
    },
    {
     "data": {
      "image/png": "[encoded data removed]",
      "text/plain": [
       "<Figure size 640x480 with 1 Axes>"
      ]
     },
     "metadata": {},
     "output_type": "display_data"
    }
   ],
   "source": [
    "fig, ax = plt.subplots()\n",
    "ax.plot(losses)"
   ]
  },
  {
   "cell_type": "markdown",
   "id": "f61c0330",
   "metadata": {},
   "source": [
    "## C)"
   ]
  },
  {
   "cell_type": "markdown",
   "id": "e5487a57",
   "metadata": {},
   "source": [
    "### Predict"
   ]
  },
  {
   "cell_type": "code",
   "execution_count": 19,
   "id": "8b5eca97",
   "metadata": {},
   "outputs": [
    {
     "name": "stdout",
     "output_type": "stream",
     "text": [
      "prediction:  791867.9076636164\n"
     ]
    }
   ],
   "source": [
    "sample = np.array([7700, 3, 2, 1, 1, 0, 0, 2])\n",
    "sample_n = normalize(sample, [mean, std_dev])\n",
    "\n",
    "# adding bias term:\n",
    "sample_norm = np.hstack([sample_n, 1])\n",
    "\n",
    "prediction = predict(sample_norm, w)\n",
    "print(\"prediction: \", prediction)"
   ]
  },
  {
   "cell_type": "markdown",
   "id": "58ba375d",
   "metadata": {},
   "source": [
    "According to the prediction of the model on training data their price is high"
   ]
  },
  {
   "cell_type": "markdown",
   "id": "6b18ad8f",
   "metadata": {},
   "source": [
    "## D)"
   ]
  },
  {
   "cell_type": "markdown",
   "id": "bd959aa2",
   "metadata": {},
   "source": [
    "### Mini-Batch GD"
   ]
  },
  {
   "cell_type": "code",
   "execution_count": 20,
   "id": "1533e42d",
   "metadata": {},
   "outputs": [],
   "source": [
    "def batch_iter(y, x, batch_size, num_batches=1, shuffle=True):\n",
    "    data_size = len(y)\n",
    "\n",
    "    if shuffle:\n",
    "        shuffle_indices = np.random.permutation(np.arange(data_size))\n",
    "        shuffled_y = y[shuffle_indices]\n",
    "        shuffled_x = x[shuffle_indices]\n",
    "    else:\n",
    "        shuffled_y = y\n",
    "        shuffled_x = x\n",
    "        \n",
    "    for batch_num in range(num_batches):\n",
    "        start_index = batch_num * batch_size\n",
    "        end_index = min((batch_num + 1) * batch_size, data_size)\n",
    "        if start_index != end_index:\n",
    "            yield shuffled_x[start_index:end_index], shuffled_y[start_index:end_index]"
   ]
  },
  {
   "cell_type": "code",
   "execution_count": 21,
   "id": "ff76e190",
   "metadata": {},
   "outputs": [],
   "source": [
    "def mini_batch_gd(x, y, initial_w, batch_size, max_iter, lr):\n",
    "    losses = []\n",
    "    w = initial_w\n",
    "    for iteration in range(max_iter):\n",
    "        for k in range(0, len(y)//batch_size):\n",
    "            for x_batch, y_batch in batch_iter(y, x, batch_size=batch_size, num_batches=1):\n",
    "                prediction = predict(x_batch, w)\n",
    "                gradient = compute_gradient(x_batch, y_batch, prediction)\n",
    "                w -= lr * gradient\n",
    "\n",
    "                pred = predict(x, w)\n",
    "                loss = mse(pred, y)\n",
    "                losses.append(loss)\n",
    "        \n",
    "    return w, losses"
   ]
  },
  {
   "cell_type": "markdown",
   "id": "3bc51007",
   "metadata": {},
   "source": [
    "### settings"
   ]
  },
  {
   "cell_type": "code",
   "execution_count": 22,
   "id": "97a76ec7",
   "metadata": {},
   "outputs": [
    {
     "name": "stdout",
     "output_type": "stream",
     "text": [
      "[0. 0. 0. 0. 0. 0. 0. 0. 0.]\n"
     ]
    }
   ],
   "source": [
    "epochs = 40\n",
    "mb_epochs = epochs\n",
    "\n",
    "lr = 0.01\n",
    "batch_size = 32\n",
    "\n",
    "initial_w = initial_weights(n_features)\n",
    "print(initial_w)"
   ]
  },
  {
   "cell_type": "code",
   "execution_count": 23,
   "id": "853fe77b",
   "metadata": {
    "scrolled": false
   },
   "outputs": [
    {
     "name": "stdout",
     "output_type": "stream",
     "text": [
      "mini batch time in seconds:  0.32747483253479004\n"
     ]
    }
   ],
   "source": [
    "tic = time.time()\n",
    "w_mb, losses_mb = mini_batch_gd(xb, y, initial_w, batch_size, epochs, lr)\n",
    "tok = time.time()\n",
    "\n",
    "mb_time = tok - tic\n",
    "print(\"mini batch time in seconds: \", mb_time)"
   ]
  },
  {
   "cell_type": "code",
   "execution_count": 24,
   "id": "0060bed4",
   "metadata": {},
   "outputs": [
    {
     "name": "stdout",
     "output_type": "stream",
     "text": [
      "weights:  [156165.79420395   1304.61193446   1353.07123378   6397.69952434\n",
      "   4932.89982467   2421.56857338  11839.59357696   8006.65425433\n",
      " 607163.67077934]\n"
     ]
    }
   ],
   "source": [
    "print(\"weights: \", w_mb)"
   ]
  },
  {
   "cell_type": "code",
   "execution_count": 25,
   "id": "b9a36675",
   "metadata": {},
   "outputs": [
    {
     "data": {
      "text/plain": [
       "790993.8445070323"
      ]
     },
     "execution_count": 25,
     "metadata": {},
     "output_type": "execute_result"
    }
   ],
   "source": [
    "sample = np.array([7700, 3, 2, 1, 1, 0, 0, 2])\n",
    "sample_n = normalize(sample, [mean, std_dev])\n",
    "\n",
    "# adding bias term:\n",
    "sample_norm = np.hstack([sample_n, 1])\n",
    "\n",
    "predict(sample_norm, w_mb)"
   ]
  },
  {
   "cell_type": "markdown",
   "id": "355245e0",
   "metadata": {},
   "source": [
    "### Plotting"
   ]
  },
  {
   "cell_type": "code",
   "execution_count": 26,
   "id": "578bc476",
   "metadata": {},
   "outputs": [
    {
     "data": {
      "text/plain": [
       "[<matplotlib.lines.Line2D at 0x134b9a3d0>]"
      ]
     },
     "execution_count": 26,
     "metadata": {},
     "output_type": "execute_result"
    },
    {
     "data": {
      "image/png": "[encoded data removed]",
      "text/plain": [
       "<Figure size 640x480 with 1 Axes>"
      ]
     },
     "metadata": {},
     "output_type": "display_data"
    }
   ],
   "source": [
    "fig, ax = plt.subplots()\n",
    "ax.plot(losses_mb)"
   ]
  },
  {
   "cell_type": "markdown",
   "id": "878c4047",
   "metadata": {},
   "source": [
    "### Stochastic Gradient Descent"
   ]
  },
  {
   "cell_type": "code",
   "execution_count": 27,
   "id": "b9ecafbe",
   "metadata": {},
   "outputs": [],
   "source": [
    "def stochastid_gradient_descent(x, y, initial_w, max_iter, lr):\n",
    "    losses = []\n",
    "    w = initial_w\n",
    "    for iteration in range(max_iter):\n",
    "        for k in range(0, len(y)):\n",
    "            for x_batch, y_batch in batch_iter(y, x, batch_size=1, num_batches=1):\n",
    "                prediction = predict(x_batch, w)\n",
    "                gradient = compute_gradient(x_batch, y_batch, prediction)\n",
    "                w -= lr * gradient\n",
    "                pred = predict(x, w)\n",
    "                loss = mse(pred, y)\n",
    "                losses.append(loss)\n",
    "\n",
    "    return w, losses"
   ]
  },
  {
   "cell_type": "markdown",
   "id": "425b5c3d",
   "metadata": {},
   "source": [
    "### settings"
   ]
  },
  {
   "cell_type": "code",
   "execution_count": 28,
   "id": "c16b55ac",
   "metadata": {},
   "outputs": [
    {
     "name": "stdout",
     "output_type": "stream",
     "text": [
      "[0. 0. 0. 0. 0. 0. 0. 0. 0.]\n"
     ]
    }
   ],
   "source": [
    "epochs = 10\n",
    "sgd_epochs = epochs\n",
    "lr = 0.001\n",
    "\n",
    "initial_w = initial_weights(n_features)\n",
    "print(initial_w)"
   ]
  },
  {
   "cell_type": "code",
   "execution_count": 29,
   "id": "47cb1e02",
   "metadata": {
    "scrolled": true
   },
   "outputs": [
    {
     "name": "stdout",
     "output_type": "stream",
     "text": [
      "stoch gd time in seconds:  2.5670859813690186\n"
     ]
    }
   ],
   "source": [
    "tic = time.time()\n",
    "w_sgd, losses_sgd = stochastid_gradient_descent(xb, y, initial_w, epochs, lr)\n",
    "tok = time.time()\n",
    "\n",
    "sgd_time = tok - tic\n",
    "print(\"stoch gd time in seconds: \", sgd_time)"
   ]
  },
  {
   "cell_type": "code",
   "execution_count": 30,
   "id": "7a09102c",
   "metadata": {},
   "outputs": [
    {
     "name": "stdout",
     "output_type": "stream",
     "text": [
      "weights:  [155010.87364677   3049.98678042   2796.13815854   3882.7895401\n",
      "   6913.0843103    2505.63925191  11026.97503733   7847.42355389\n",
      " 605411.59530947]\n"
     ]
    }
   ],
   "source": [
    "print(\"weights: \", w_sgd)"
   ]
  },
  {
   "cell_type": "code",
   "execution_count": 31,
   "id": "2eb035c9",
   "metadata": {},
   "outputs": [
    {
     "data": {
      "text/plain": [
       "793470.8115459161"
      ]
     },
     "execution_count": 31,
     "metadata": {},
     "output_type": "execute_result"
    }
   ],
   "source": [
    "sample = np.array([7700, 3, 2, 1, 1, 0, 0, 2])\n",
    "sample_n = normalize(sample, [mean, std_dev])\n",
    "\n",
    "# adding bias term:\n",
    "sample_norm = np.hstack([sample_n, 1])\n",
    "\n",
    "predict(sample_norm, w_sgd)"
   ]
  },
  {
   "cell_type": "markdown",
   "id": "223d5a5a",
   "metadata": {},
   "source": [
    "### Plotting"
   ]
  },
  {
   "cell_type": "code",
   "execution_count": 32,
   "id": "94fa87db",
   "metadata": {
    "scrolled": false
   },
   "outputs": [
    {
     "data": {
      "text/plain": [
       "[<matplotlib.lines.Line2D at 0x134bac700>]"
      ]
     },
     "execution_count": 32,
     "metadata": {},
     "output_type": "execute_result"
    },
    {
     "data": {
      "image/png": "[encoded data removed]",
      "text/plain": [
       "<Figure size 640x480 with 1 Axes>"
      ]
     },
     "metadata": {},
     "output_type": "display_data"
    }
   ],
   "source": [
    "fig, ax = plt.subplots()\n",
    "ax.plot(losses_sgd)"
   ]
  },
  {
   "cell_type": "markdown",
   "id": "8fb465b9",
   "metadata": {},
   "source": [
    "## Comparisons"
   ]
  },
  {
   "cell_type": "code",
   "execution_count": 33,
   "id": "e0c4827e",
   "metadata": {},
   "outputs": [
    {
     "name": "stdout",
     "output_type": "stream",
     "text": [
      "batch epochs: 80, batch time: 0.01468801498413086\n",
      "sgd epochs: 10, sgd time: 2.5670859813690186\n",
      "mini-batch epochs: 40, mini-batch time: 0.32747483253479004\n"
     ]
    }
   ],
   "source": [
    "print(f\"batch epochs: {batch_epochs}, batch time: {batch_time}\")\n",
    "print(f\"sgd epochs: {sgd_epochs}, sgd time: {sgd_time}\")\n",
    "print(f\"mini-batch epochs: {mb_epochs}, mini-batch time: {mb_time}\")"
   ]
  },
  {
   "cell_type": "markdown",
   "id": "dc7c5f20",
   "metadata": {},
   "source": [
    "as we expected the time in batch is less than mini batch and minibatch is less than sgd.<br>\n",
    "but comparison should be based on the number of epochs to converge:<br>\n",
    "the sgd is the fastest and required less epochs because it updates very much in each epoch. but it is noisy.<br>\n",
    "the mini batch is the second fastest and the best option<br>\n",
    "the batch is the slowest and requires the most epochs because it updates once in each epoch."
   ]
  },
  {
   "cell_type": "markdown",
   "id": "3d5a5996",
   "metadata": {},
   "source": [
    "## Effect of large and small learning rate:"
   ]
  },
  {
   "cell_type": "code",
   "execution_count": 34,
   "id": "0291e098",
   "metadata": {},
   "outputs": [],
   "source": [
    "large_lr = 100\n",
    "small_lr = 0.0000001\n",
    "n_epochs = 1000\n",
    "\n",
    "initial_w = initial_weights(n_features)\n",
    "w_large, losses_large = gradient_descent(xb, y, initial_w, n_epochs, large_lr)\n",
    "initial_w = initial_weights(n_features)\n",
    "\n",
    "w_small, losses_small = gradient_descent(xb, y, initial_w, n_epochs, small_lr)"
   ]
  },
  {
   "cell_type": "code",
   "execution_count": 35,
   "id": "cb346d59",
   "metadata": {},
   "outputs": [
    {
     "data": {
      "text/plain": [
       "[<matplotlib.lines.Line2D at 0x134d18c10>]"
      ]
     },
     "execution_count": 35,
     "metadata": {},
     "output_type": "execute_result"
    },
    {
     "data": {
      "image/png": "[encoded data removed]",
      "text/plain": [
       "<Figure size 640x480 with 2 Axes>"
      ]
     },
     "metadata": {},
     "output_type": "display_data"
    }
   ],
   "source": [
    "fig, ax = plt.subplots(2)\n",
    "ax[0].plot(losses_large)\n",
    "ax[1].plot(losses_small)"
   ]
  },
  {
   "cell_type": "code",
   "execution_count": 36,
   "id": "3a0b9488",
   "metadata": {},
   "outputs": [
    {
     "data": {
      "text/plain": [
       "(198164761907.94873, 198164721213.6328)"
      ]
     },
     "execution_count": 36,
     "metadata": {},
     "output_type": "execute_result"
    }
   ],
   "source": [
    "initial_w = initial_weights(n_features)\n",
    "w_small_2, losses_small_2 = gradient_descent(xb, y, initial_w, 1001, small_lr)\n",
    "\n",
    "pred_1 = predict(xb, w_small)\n",
    "pred_2 = predict(xb, w_small_2)\n",
    "\n",
    "mse(pred_1, y), mse(pred_2, y)"
   ]
  },
  {
   "cell_type": "markdown",
   "id": "ec9d352c",
   "metadata": {},
   "source": [
    "using a large lr causes the model to diverge and not getting a good result<br>\n",
    "also using a very small lr makes the model slow and the learning would take so long(we can see in the cell above that the loss on the next epoch is relatively close to the previous one. this means that the model is slow is minimiznig loss). so we should choose a proper value that is neither small or large"
   ]
  },
  {
   "cell_type": "markdown",
   "id": "c77a56ee",
   "metadata": {},
   "source": [
    "## Using Library"
   ]
  },
  {
   "cell_type": "code",
   "execution_count": 37,
   "id": "8285c2fb",
   "metadata": {},
   "outputs": [],
   "source": [
    "from sklearn.linear_model import LinearRegression\n",
    "\n",
    "\n",
    "model = LinearRegression()"
   ]
  },
  {
   "cell_type": "code",
   "execution_count": 38,
   "id": "b45408c3",
   "metadata": {},
   "outputs": [
    {
     "name": "stdout",
     "output_type": "stream",
     "text": [
      "library training time: 0.002251148223876953s\n"
     ]
    },
    {
     "data": {
      "text/plain": [
       "0.9988077770854864"
      ]
     },
     "execution_count": 38,
     "metadata": {},
     "output_type": "execute_result"
    }
   ],
   "source": [
    "tic = time.time()\n",
    "model.fit(xb, y)\n",
    "tok = time.time()\n",
    "\n",
    "sk_time = tok - tic\n",
    "print(f\"library training time: {sk_time}s\")\n",
    "\n",
    "model.score(xb, y)"
   ]
  },
  {
   "cell_type": "code",
   "execution_count": 39,
   "id": "4e11bfc6",
   "metadata": {},
   "outputs": [
    {
     "name": "stdout",
     "output_type": "stream",
     "text": [
      "weights:  [157850.35742253   1082.80836969   1006.59708821   6852.2751544\n",
      "   4392.93830981   1833.20266508  12412.66898057   7080.16092081\n",
      "      0.        ]\n"
     ]
    }
   ],
   "source": [
    "print(\"weights: \", model.coef_)"
   ]
  },
  {
   "cell_type": "code",
   "execution_count": 40,
   "id": "04186d43",
   "metadata": {},
   "outputs": [
    {
     "data": {
      "text/plain": [
       "array([790922.91902032])"
      ]
     },
     "execution_count": 40,
     "metadata": {},
     "output_type": "execute_result"
    }
   ],
   "source": [
    "sample = np.array([7700, 3, 2, 1, 1, 0, 0, 2])\n",
    "sample_n = normalize(sample, [mean, std_dev])\n",
    "\n",
    "# adding bias term:\n",
    "sample_norm = np.hstack([sample_n, 1])\n",
    "\n",
    "model.predict(np.array([sample_norm]))"
   ]
  },
  {
   "cell_type": "code",
   "execution_count": 41,
   "id": "e397626c",
   "metadata": {},
   "outputs": [],
   "source": [
    "y_sk = model.predict(xb)\n",
    "y_batch = predict(xb, w_batch)"
   ]
  },
  {
   "cell_type": "markdown",
   "id": "dca96d93",
   "metadata": {},
   "source": [
    "## Comparisons"
   ]
  },
  {
   "cell_type": "code",
   "execution_count": 42,
   "id": "4793b3ea",
   "metadata": {},
   "outputs": [
    {
     "name": "stdout",
     "output_type": "stream",
     "text": [
      "mse for library:  16082448.516397253\n",
      "mse for implemented batch:  18648853.26690521\n"
     ]
    }
   ],
   "source": [
    "mse_sk = mse(y_sk, y)\n",
    "mse_batch = mse(y_batch, y)\n",
    "print(\"mse for library: \", mse_sk)\n",
    "print(\"mse for implemented batch: \", mse_batch)"
   ]
  },
  {
   "cell_type": "code",
   "execution_count": 43,
   "id": "c3e1ba5b",
   "metadata": {},
   "outputs": [
    {
     "name": "stdout",
     "output_type": "stream",
     "text": [
      "Batch training time in seconds:  0.01468801498413086\n",
      "Library training time in seconds: 0.002251148223876953\n"
     ]
    }
   ],
   "source": [
    "print(\"Batch training time in seconds: \", batch_time)\n",
    "print(\"Library training time in seconds:\", sk_time)"
   ]
  },
  {
   "cell_type": "markdown",
   "id": "583f0862",
   "metadata": {},
   "source": [
    "So we can see that the library is faster    "
   ]
  },
  {
   "cell_type": "code",
   "execution_count": null,
   "id": "29a52e96",
   "metadata": {},
   "outputs": [],
   "source": []
  },
  {
   "cell_type": "markdown",
   "id": "468ddb7a",
   "metadata": {},
   "source": [
    "# Q2"
   ]
  },
  {
   "cell_type": "markdown",
   "id": "be855eaa",
   "metadata": {},
   "source": [
    "## A)"
   ]
  },
  {
   "cell_type": "code",
   "execution_count": 44,
   "id": "26fdeaa3",
   "metadata": {},
   "outputs": [
    {
     "name": "stdout",
     "output_type": "stream",
     "text": [
      "(50, 2)\n"
     ]
    }
   ],
   "source": [
    "from sklearn.model_selection import train_test_split\n",
    "\n",
    "data = pd.read_csv(\"./data/Data.csv\")\n",
    "x, y = data[\"X\"], data[\"Y\"]\n",
    "xb = np.column_stack([np.ones_like(x), x])\n",
    "print(xb.shape)"
   ]
  },
  {
   "cell_type": "code",
   "execution_count": null,
   "id": "88578ec3",
   "metadata": {},
   "outputs": [],
   "source": []
  },
  {
   "cell_type": "code",
   "execution_count": 45,
   "id": "350609d4",
   "metadata": {},
   "outputs": [
    {
     "data": {
      "text/html": [
       "<div>\n",
       "<style scoped>\n",
       "    .dataframe tbody tr th:only-of-type {\n",
       "        vertical-align: middle;\n",
       "    }\n",
       "\n",
       "    .dataframe tbody tr th {\n",
       "        vertical-align: top;\n",
       "    }\n",
       "\n",
       "    .dataframe thead th {\n",
       "        text-align: right;\n",
       "    }\n",
       "</style>\n",
       "<table border=\"1\" class=\"dataframe\">\n",
       "  <thead>\n",
       "    <tr style=\"text-align: right;\">\n",
       "      <th></th>\n",
       "      <th>X</th>\n",
       "      <th>Y</th>\n",
       "    </tr>\n",
       "  </thead>\n",
       "  <tbody>\n",
       "    <tr>\n",
       "      <th>0</th>\n",
       "      <td>-0.994787</td>\n",
       "      <td>6.808710</td>\n",
       "    </tr>\n",
       "    <tr>\n",
       "      <th>1</th>\n",
       "      <td>-0.950996</td>\n",
       "      <td>6.460205</td>\n",
       "    </tr>\n",
       "    <tr>\n",
       "      <th>2</th>\n",
       "      <td>-0.919999</td>\n",
       "      <td>7.354000</td>\n",
       "    </tr>\n",
       "    <tr>\n",
       "      <th>3</th>\n",
       "      <td>-0.876221</td>\n",
       "      <td>7.420564</td>\n",
       "    </tr>\n",
       "    <tr>\n",
       "      <th>4</th>\n",
       "      <td>-0.838166</td>\n",
       "      <td>7.595328</td>\n",
       "    </tr>\n",
       "  </tbody>\n",
       "</table>\n",
       "</div>"
      ],
      "text/plain": [
       "          X         Y\n",
       "0 -0.994787  6.808710\n",
       "1 -0.950996  6.460205\n",
       "2 -0.919999  7.354000\n",
       "3 -0.876221  7.420564\n",
       "4 -0.838166  7.595328"
      ]
     },
     "execution_count": 45,
     "metadata": {},
     "output_type": "execute_result"
    }
   ],
   "source": [
    "data.head()"
   ]
  },
  {
   "cell_type": "markdown",
   "id": "a947539d",
   "metadata": {},
   "source": [
    "## Split into train and test sets"
   ]
  },
  {
   "cell_type": "code",
   "execution_count": 46,
   "id": "2d394057",
   "metadata": {},
   "outputs": [],
   "source": [
    "train, test_set = train_test_split(data, random_state=10, test_size=0.2)"
   ]
  },
  {
   "cell_type": "code",
   "execution_count": 47,
   "id": "0a9b880d",
   "metadata": {},
   "outputs": [
    {
     "data": {
      "text/plain": [
       "(40, 2)"
      ]
     },
     "execution_count": 47,
     "metadata": {},
     "output_type": "execute_result"
    }
   ],
   "source": [
    "train.shape"
   ]
  },
  {
   "cell_type": "code",
   "execution_count": 48,
   "id": "c28c2b78",
   "metadata": {},
   "outputs": [
    {
     "data": {
      "text/plain": [
       "(10, 2)"
      ]
     },
     "execution_count": 48,
     "metadata": {},
     "output_type": "execute_result"
    }
   ],
   "source": [
    "test_set.shape"
   ]
  },
  {
   "cell_type": "markdown",
   "id": "64e3f4db",
   "metadata": {},
   "source": [
    "## B)"
   ]
  },
  {
   "cell_type": "markdown",
   "id": "8aa2fec4",
   "metadata": {},
   "source": [
    "## split into train and val sets"
   ]
  },
  {
   "cell_type": "code",
   "execution_count": 49,
   "id": "29ea3eca",
   "metadata": {},
   "outputs": [],
   "source": [
    "train_set, val_set = train_test_split(train, random_state=10, test_size=0.2)"
   ]
  },
  {
   "cell_type": "code",
   "execution_count": 50,
   "id": "8196ca5c",
   "metadata": {},
   "outputs": [
    {
     "name": "stdout",
     "output_type": "stream",
     "text": [
      "(32, 2) (8, 2)\n"
     ]
    }
   ],
   "source": [
    "print(train_set.shape, val_set.shape)"
   ]
  },
  {
   "cell_type": "code",
   "execution_count": 51,
   "id": "8d7dde93",
   "metadata": {},
   "outputs": [
    {
     "name": "stdout",
     "output_type": "stream",
     "text": [
      "(8, 2) (32, 2)\n"
     ]
    }
   ],
   "source": [
    "x_train, y_train = train_set[\"X\"], train_set[\"Y\"]\n",
    "x_val, y_val = val_set[\"X\"], val_set[\"Y\"]\n",
    "x_test, y_test = test_set[\"X\"], test_set[\"Y\"]\n",
    "\n",
    "xb_train = np.column_stack([np.ones_like(x_train), x_train])\n",
    "xb_val = np.column_stack([np.ones_like(x_val), x_val])\n",
    "xb_test = np.column_stack([np.ones_like(x_test), x_test])\n",
    "\n",
    "print(xb_val.shape, xb_train.shape)"
   ]
  },
  {
   "cell_type": "code",
   "execution_count": 52,
   "id": "1c63f137",
   "metadata": {},
   "outputs": [
    {
     "name": "stdout",
     "output_type": "stream",
     "text": [
      "2\n"
     ]
    }
   ],
   "source": [
    "n_features = xb_train.shape[1]\n",
    "print(n_features)"
   ]
  },
  {
   "cell_type": "markdown",
   "id": "4e889714",
   "metadata": {},
   "source": [
    "### Hypter parameter tunning using CV"
   ]
  },
  {
   "cell_type": "code",
   "execution_count": 53,
   "id": "b55d6e48",
   "metadata": {},
   "outputs": [],
   "source": [
    "n_epochs = 100\n",
    "lr_opt = [10, 1, 0.1, 0.01, 0.001, 0.0001]"
   ]
  },
  {
   "cell_type": "code",
   "execution_count": 54,
   "id": "3108d5cf",
   "metadata": {},
   "outputs": [
    {
     "name": "stdout",
     "output_type": "stream",
     "text": [
      "0.9613194523901241 [ 8.41568155 -0.40481265] 0.1\n"
     ]
    }
   ],
   "source": [
    "best_loss = np.inf \n",
    "best_w = []\n",
    "best_lr = 0\n",
    "best_time_gd = 0\n",
    "\n",
    "for lr in lr_opt:\n",
    "    initial_w = initial_weights(n_features)\n",
    "    tic = time.time()\n",
    "    w, losses = gradient_descent(xb_train, y_train, initial_w, n_epochs, lr)\n",
    "    tok = time.time()\n",
    "    \n",
    "    val_pred = predict(xb_val, w)\n",
    "    loss = mse(val_pred, y_val)\n",
    "    \n",
    "    if best_loss > loss:\n",
    "        best_loss = loss\n",
    "        best_w = w\n",
    "        best_lr = lr\n",
    "        best_time_gd = tok - tic\n",
    "        \n",
    "print(best_loss, best_w, best_lr)"
   ]
  },
  {
   "cell_type": "markdown",
   "id": "57f4809f",
   "metadata": {},
   "source": [
    "### Plotting"
   ]
  },
  {
   "cell_type": "code",
   "execution_count": 55,
   "id": "290164ae",
   "metadata": {},
   "outputs": [],
   "source": [
    "pred = predict(xb, best_w)"
   ]
  },
  {
   "cell_type": "code",
   "execution_count": 56,
   "id": "6a8691ba",
   "metadata": {
    "scrolled": false
   },
   "outputs": [
    {
     "data": {
      "text/plain": [
       "[<matplotlib.lines.Line2D at 0x14721bbe0>]"
      ]
     },
     "execution_count": 56,
     "metadata": {},
     "output_type": "execute_result"
    },
    {
     "data": {
      "image/png": "[encoded data removed]",
      "text/plain": [
       "<Figure size 640x480 with 1 Axes>"
      ]
     },
     "metadata": {},
     "output_type": "display_data"
    }
   ],
   "source": [
    "plt.scatter(x, y)\n",
    "plt.plot(x, pred, color='orange')"
   ]
  },
  {
   "cell_type": "markdown",
   "id": "e0d25c31",
   "metadata": {},
   "source": [
    "### Loss on Train and Test"
   ]
  },
  {
   "cell_type": "code",
   "execution_count": 57,
   "id": "b20f02b4",
   "metadata": {},
   "outputs": [
    {
     "name": "stdout",
     "output_type": "stream",
     "text": [
      "loss on train set: 0.7467593546474648\n",
      "loss on test set: 0.6797011710433558\n"
     ]
    }
   ],
   "source": [
    "train_pred = predict(xb_train, best_w)\n",
    "test_pred = predict(xb_test, best_w)\n",
    "gd_train_loss = mse(train_pred, y_train)\n",
    "gd_test_loss = mse(test_pred, y_test)\n",
    "\n",
    "print(f\"loss on train set: {gd_train_loss}\\nloss on test set: {gd_test_loss}\")"
   ]
  },
  {
   "cell_type": "markdown",
   "id": "1b966d38",
   "metadata": {},
   "source": [
    "we can see that loss on train set is higher than loss on test set <br>\n",
    "this is because the model is underfit and both of them have high losses. <br>\n",
    "also the the data we are working on is simple and very little in the number."
   ]
  },
  {
   "cell_type": "markdown",
   "id": "144e94d8",
   "metadata": {},
   "source": [
    "## C)"
   ]
  },
  {
   "cell_type": "markdown",
   "id": "dd3f4505",
   "metadata": {},
   "source": [
    "### Close Form Sol"
   ]
  },
  {
   "cell_type": "code",
   "execution_count": 58,
   "id": "7dd97093",
   "metadata": {},
   "outputs": [],
   "source": [
    "def close_form_sol(x, y):\n",
    "    return np.linalg.inv(x.T.dot(x)).dot(x.T).dot(y)"
   ]
  },
  {
   "cell_type": "code",
   "execution_count": 59,
   "id": "1d72f8b2",
   "metadata": {},
   "outputs": [],
   "source": [
    "tic = time.time()\n",
    "w_cfs = close_form_sol(xb_train, y_train)\n",
    "tok = time.time()\n",
    "cfs_time = tok - tic"
   ]
  },
  {
   "cell_type": "code",
   "execution_count": 60,
   "id": "e6010faf",
   "metadata": {},
   "outputs": [
    {
     "data": {
      "text/plain": [
       "[<matplotlib.lines.Line2D at 0x1472f1670>]"
      ]
     },
     "execution_count": 60,
     "metadata": {},
     "output_type": "execute_result"
    },
    {
     "data": {
      "image/png": "[encoded data removed]",
      "text/plain": [
       "<Figure size 640x480 with 1 Axes>"
      ]
     },
     "metadata": {},
     "output_type": "display_data"
    }
   ],
   "source": [
    "pred = predict(xb, w_cfs)\n",
    "plt.scatter(x, y)\n",
    "plt.plot(x, pred, color='orange')"
   ]
  },
  {
   "cell_type": "markdown",
   "id": "7e9130e5",
   "metadata": {},
   "source": [
    "### Loss on Train and Test"
   ]
  },
  {
   "cell_type": "code",
   "execution_count": 61,
   "id": "2f0fbe47",
   "metadata": {},
   "outputs": [
    {
     "name": "stdout",
     "output_type": "stream",
     "text": [
      "loss on train set: 0.7465436219668953\n",
      "loss on test set: 0.6853751594616052\n"
     ]
    }
   ],
   "source": [
    "train_pred = predict(xb_train, w_cfs)\n",
    "test_pred = predict(xb_test, w_cfs)\n",
    "\n",
    "cfs_train_loss = mse(train_pred, y_train)\n",
    "cfs_test_loss = mse(test_pred, y_test)\n",
    "\n",
    "print(f\"loss on train set: {cfs_train_loss}\\nloss on test set: {cfs_test_loss}\")"
   ]
  },
  {
   "cell_type": "markdown",
   "id": "9ffce641",
   "metadata": {},
   "source": [
    "### time comparison:"
   ]
  },
  {
   "cell_type": "code",
   "execution_count": 62,
   "id": "471b5f90",
   "metadata": {},
   "outputs": [
    {
     "name": "stdout",
     "output_type": "stream",
     "text": [
      "time GD:  0.017721891403198242\n",
      "time close form:  0.0001201629638671875\n"
     ]
    }
   ],
   "source": [
    "print(\"time GD: \", best_time_gd)\n",
    "print(\"time close form: \", cfs_time)"
   ]
  },
  {
   "cell_type": "markdown",
   "id": "8d519bb3",
   "metadata": {},
   "source": [
    "because the number of features is small the close form solution is faster than gd."
   ]
  },
  {
   "cell_type": "markdown",
   "id": "05058454",
   "metadata": {},
   "source": [
    "### loss comparison gd and cfs:"
   ]
  },
  {
   "cell_type": "code",
   "execution_count": 63,
   "id": "0d91bb79",
   "metadata": {},
   "outputs": [
    {
     "name": "stdout",
     "output_type": "stream",
     "text": [
      "train loss in gd: 0.7467593546474648\n",
      "train loss in cfs: 0.7465436219668953\n",
      "----------------------------------------\n",
      "test loss in gd: 0.6797011710433558\n",
      "test loss in cfs: 0.6853751594616052\n"
     ]
    }
   ],
   "source": [
    "print(f\"train loss in gd: {gd_train_loss}\")\n",
    "print(f\"train loss in cfs: {cfs_train_loss}\")\n",
    "print(\"-\"*40)\n",
    "print(f\"test loss in gd: {gd_test_loss}\")\n",
    "print(f\"test loss in cfs: {cfs_test_loss}\")"
   ]
  },
  {
   "cell_type": "markdown",
   "id": "0d0a5dab",
   "metadata": {},
   "source": [
    "the test loss in gd is smaller than cfs this is because the cfs finds the best possible weights and this leads to overfitting. also the loss on train is smaller for cfs that confirms this. but the model by gd is better in test."
   ]
  },
  {
   "cell_type": "code",
   "execution_count": null,
   "id": "54edbc54",
   "metadata": {},
   "outputs": [],
   "source": []
  },
  {
   "cell_type": "markdown",
   "id": "455a8a71",
   "metadata": {},
   "source": [
    "## D)"
   ]
  },
  {
   "cell_type": "code",
   "execution_count": 64,
   "id": "1570b929",
   "metadata": {
    "scrolled": false
   },
   "outputs": [
    {
     "data": {
      "image/png": "[encoded data removed]",
      "text/plain": [
       "<Figure size 500x2000 with 6 Axes>"
      ]
     },
     "metadata": {},
     "output_type": "display_data"
    }
   ],
   "source": [
    "fig, axs = plt.subplots(6, figsize=(5, 20))\n",
    "plt.subplots_adjust(left=0.1,\n",
    "                    bottom=0.1, \n",
    "                    right=0.9, \n",
    "                    top=0.9, \n",
    "                    wspace=0.4, \n",
    "                    hspace=0.4)\n",
    "\n",
    "degrees = [5, 7, 9 , 11, 13, 15]\n",
    "for i, degree in enumerate(degrees):\n",
    "    stack_list = [xb_train]\n",
    "    stack_list_test = [xb_test]\n",
    "    stack_list_all = [xb]\n",
    "    for k in range(2, degree + 1): \n",
    "        stack_list.append(x_train**k)\n",
    "        stack_list_test.append(x_test**k)\n",
    "        stack_list_all.append(x**k)\n",
    "    x_complex = np.column_stack(stack_list)\n",
    "    x_complex_test = np.column_stack(stack_list_test)\n",
    "    x_complex_all = np.column_stack(stack_list_all)\n",
    "        \n",
    "    w_complex = close_form_sol(x_complex, y_train)\n",
    "    pred = predict(x_complex, w_complex)\n",
    "    pred_test = predict(x_complex_test, w_complex)\n",
    "    pred_all = predict(x_complex_all, w_complex)\n",
    "    \n",
    "    loss_test = mse(pred_test, y_test)\n",
    "    loss_train = mse(pred, y_train)\n",
    "    \n",
    "    \n",
    "    axs[i].set_title(f\"degree= {degree}, loss_train= {loss_train}, loss_test={loss_test}\")\n",
    "    axs[i].scatter(x_train, y_train)\n",
    "    axs[i].scatter(x_val, y_val, color=\"m\")\n",
    "    axs[i].scatter(x_test, y_test, color=\"red\")\n",
    "    axs[i].plot(x, pred_all, color='orange')"
   ]
  },
  {
   "cell_type": "markdown",
   "id": "b9acdfe3",
   "metadata": {},
   "source": [
    "we see that as the degrees increases, the loss on train set decreases and the loss on test set increases. this means that the model is having the overfitting problem."
   ]
  },
  {
   "cell_type": "markdown",
   "id": "b44233eb",
   "metadata": {},
   "source": [
    "## E)"
   ]
  },
  {
   "cell_type": "markdown",
   "id": "e64a833c",
   "metadata": {},
   "source": [
    "### Ridge Close Form Sol"
   ]
  },
  {
   "cell_type": "code",
   "execution_count": 65,
   "id": "d8877f3d",
   "metadata": {},
   "outputs": [],
   "source": [
    "def ridge_cfs(x, y, alpha):\n",
    "    n = x.shape[1]\n",
    "    return np.linalg.inv(x.T.dot(x) + alpha * np.eye(n)).dot(x.T).dot(y)\n",
    "    "
   ]
  },
  {
   "cell_type": "code",
   "execution_count": 66,
   "id": "1aa70626",
   "metadata": {
    "scrolled": false
   },
   "outputs": [
    {
     "data": {
      "image/png": "[encoded data removed]",
      "text/plain": [
       "<Figure size 500x1000 with 2 Axes>"
      ]
     },
     "metadata": {},
     "output_type": "display_data"
    }
   ],
   "source": [
    "fig, axs = plt.subplots(2, figsize=(5, 10))\n",
    "plt.subplots_adjust(left=0.1,\n",
    "                    bottom=0.1, \n",
    "                    right=0.9, \n",
    "                    top=0.9, \n",
    "                    wspace=0.4, \n",
    "                    hspace=0.4)\n",
    "\n",
    "degrees = [13, 15]\n",
    "for i, degree in enumerate(degrees):\n",
    "    stack_list = [xb_train]\n",
    "    stack_list_test = [xb_test]\n",
    "    stack_list_all = [xb]\n",
    "    for k in range(2, degree + 1): \n",
    "        stack_list.append(x_train**k)\n",
    "        stack_list_test.append(x_test**k)\n",
    "        stack_list_all.append(x**k)\n",
    "    x_complex = np.column_stack(stack_list)\n",
    "    x_complex_test = np.column_stack(stack_list_test)\n",
    "    x_complex_all = np.column_stack(stack_list_all)\n",
    "        \n",
    "    w_complex = ridge_cfs(x_complex, y_train, 0.1)\n",
    "    pred = predict(x_complex, w_complex)\n",
    "    pred_test = predict(x_complex_test, w_complex)\n",
    "    pred_all = predict(x_complex_all, w_complex)\n",
    "    \n",
    "    loss_test = mse(pred_test, y_test)\n",
    "    loss_train = mse(pred, y_train)\n",
    "    \n",
    "    \n",
    "    axs[i].set_title(f\"degree= {degree}, loss_train= {loss_train}, loss_test={loss_test}\")\n",
    "    axs[i].scatter(x_train, y_train)\n",
    "    axs[i].scatter(x_val, y_val, color=\"m\")\n",
    "    axs[i].scatter(x_test, y_test, color=\"red\")\n",
    "    axs[i].plot(x, pred_all, color='orange')"
   ]
  },
  {
   "cell_type": "markdown",
   "id": "40c25d11",
   "metadata": {},
   "source": [
    "because of the regularizatoin term, despite the fact that we added more degrees, the model is not overfitted and the test and train losses are close and the model is just right."
   ]
  },
  {
   "cell_type": "markdown",
   "id": "e5d8a04f",
   "metadata": {},
   "source": [
    "## F)"
   ]
  },
  {
   "cell_type": "markdown",
   "id": "97810c9c",
   "metadata": {},
   "source": [
    "### Lasso Regression"
   ]
  },
  {
   "cell_type": "code",
   "execution_count": 67,
   "id": "1795b4e6",
   "metadata": {},
   "outputs": [],
   "source": [
    "from sklearn.linear_model import Lasso\n"
   ]
  },
  {
   "cell_type": "markdown",
   "id": "c7baefb1",
   "metadata": {},
   "source": [
    "#### preping the data:"
   ]
  },
  {
   "cell_type": "code",
   "execution_count": 68,
   "id": "f387f457",
   "metadata": {},
   "outputs": [
    {
     "name": "stdout",
     "output_type": "stream",
     "text": [
      "degree:  13\n",
      "lib weights: \n",
      " [ 0.         -0.41749373 -2.79099355 -0.         -0.         -0.\n",
      " -0.         -0.         -0.         -0.         -0.         -0.\n",
      " -0.          0.        ]\n",
      "cfs weights: \n",
      " [   9.77039038   -0.61356131   -4.25007031   -5.86928521   10.24180853\n",
      "   23.21672684  -65.13623316   13.35615949  126.87854539 -189.03383248\n",
      "  -91.01687988  290.89828979   18.17823365 -134.12903887]\n",
      "ridge cfs weights: \n",
      " [ 9.56472830e+00 -8.36396899e-01 -2.97936669e+00 -9.47005375e-02\n",
      " -1.45742579e+00 -2.25156392e-02 -3.61830478e-01  1.65494567e-02\n",
      "  1.59437173e-01  3.71226682e-02  3.90335866e-01  3.34349613e-02\n",
      "  4.89143703e-01  9.17057482e-03]\n",
      "----------------------------------------\n",
      "degree:  15\n",
      "lib weights: \n",
      " [ 0.         -0.41749373 -2.79099355 -0.         -0.         -0.\n",
      " -0.         -0.         -0.         -0.         -0.         -0.\n",
      " -0.          0.         -0.          0.        ]\n",
      "cfs weights: \n",
      " [ 9.99199240e+00  1.80019208e+00 -2.35856762e+01 -1.01172076e+02\n",
      "  3.94002495e+02  1.21910521e+03 -3.05145455e+03 -6.91135331e+03\n",
      "  1.12499199e+04  2.08627944e+04 -2.12275836e+04 -3.43147363e+04\n",
      "  1.97307806e+04  2.88901675e+04 -7.14102134e+03 -9.71300024e+03]\n",
      "ridge cfs weights: \n",
      " [ 9.56278374e+00 -8.30707624e-01 -2.95706900e+00 -1.12898975e-01\n",
      " -1.45771196e+00 -4.37924744e-02 -3.99962159e-01  8.14733083e-03\n",
      "  8.85537810e-02  4.70905042e-02  2.94542994e-01  6.24693075e-02\n",
      "  3.75125090e-01  5.60714808e-02  4.02685849e-01  3.33284035e-02]\n",
      "----------------------------------------\n"
     ]
    }
   ],
   "source": [
    "\n",
    "\n",
    "degrees = [13, 15]\n",
    "for i, degree in enumerate(degrees):\n",
    "    stack_list = [xb_train]\n",
    "    stack_list_test = [xb_test]\n",
    "    stack_list_all = [xb]\n",
    "    for k in range(2, degree + 1): \n",
    "        stack_list.append(x_train**k)\n",
    "        stack_list_test.append(x_test**k)\n",
    "        stack_list_all.append(x**k)\n",
    "    x_complex = np.column_stack(stack_list)\n",
    "    x_complex_test = np.column_stack(stack_list_test)\n",
    "    x_complex_all = np.column_stack(stack_list_all)\n",
    "        \n",
    "    # close form solution\n",
    "    w_complex_cfs = close_form_sol(x_complex, y_train) \n",
    "    pred_cfs = predict(x_complex, w_complex_cfs)\n",
    "    pred_test_cfs = predict(x_complex_test, w_complex_cfs)\n",
    "    pred_all_cfs = predict(x_complex_all, w_complex_cfs)\n",
    "    \n",
    "    # ridge close form solution\n",
    "    w_complex_ridge_cfs = ridge_cfs(x_complex, y_train, 0.1) \n",
    "    pred_ridge_cfs = predict(x_complex, w_complex_ridge_cfs)\n",
    "    pred_test_ridge_cfs = predict(x_complex_test, w_complex_ridge_cfs)\n",
    "    pred_all_ridge_cfs = predict(x_complex_all, w_complex_ridge_cfs)\n",
    "    \n",
    "    # library\n",
    "    model = Lasso(alpha=0.1)\n",
    "    model.fit(x_complex, y_train)\n",
    "    pred_lib = model.predict(x_complex)\n",
    "    pred_test_lib = model.predict(x_complex_test)\n",
    "    pred_all_lib = model.predict(x_complex_all)\n",
    "    \n",
    "\n",
    "    loss_test = mse(pred_test, y_test)\n",
    "    loss_train = mse(pred, y_train)\n",
    "    \n",
    "    # comparing the weights:\n",
    "    print(\"degree: \", degree)\n",
    "    print(\"lib weights: \\n\", model.coef_ )\n",
    "    print(\"cfs weights: \\n\", w_complex_cfs )\n",
    "    print(\"ridge cfs weights: \\n\", w_complex_ridge_cfs )\n",
    "    print(\"-\" * 40)\n",
    "    "
   ]
  },
  {
   "cell_type": "markdown",
   "id": "6bceb54a",
   "metadata": {},
   "source": [
    "we can see that in ridge some weights are so close to zero but the correspoinding weight in lasso is exactly zero.\n",
    "<br> and the weights in the model without regulatization is not zero and is overfitted"
   ]
  },
  {
   "cell_type": "markdown",
   "id": "343d4aaf",
   "metadata": {},
   "source": [
    "# Theory Problem 8"
   ]
  },
  {
   "cell_type": "markdown",
   "id": "83be0f33",
   "metadata": {},
   "source": [
    "## sgd"
   ]
  },
  {
   "cell_type": "code",
   "execution_count": 69,
   "id": "e96c32b6",
   "metadata": {},
   "outputs": [],
   "source": [
    "# import numpy as np\n",
    "# w = np.array([-59.5, -0.15, 0.6])\n",
    "# lr = 0.1\n",
    "# def predict(x, w):\n",
    "#     return x.dot(w)\n",
    "# print(-59.5 * 1 + 42 * -0.15 + 0.6 * 153)"
   ]
  },
  {
   "cell_type": "code",
   "execution_count": 70,
   "id": "f8863d36",
   "metadata": {},
   "outputs": [],
   "source": [
    "# x = np.array([[41, 138], [42, 153], [37, 151], [46, 133]])\n",
    "# y = np.array([37.99, 47.34, 44.38, 28.17])\n",
    "# print(x.shape, y.shape)"
   ]
  },
  {
   "cell_type": "code",
   "execution_count": 71,
   "id": "fb613c37",
   "metadata": {},
   "outputs": [],
   "source": [
    "# xs = np.hstack([np.ones((4, 1)), x])\n",
    "# print(xs)"
   ]
  },
  {
   "cell_type": "code",
   "execution_count": 72,
   "id": "cf5b1cff",
   "metadata": {},
   "outputs": [],
   "source": [
    "# prediction = predict(xs, w)\n",
    "# print(prediction.shape, prediction)"
   ]
  },
  {
   "cell_type": "code",
   "execution_count": 73,
   "id": "d2356977",
   "metadata": {},
   "outputs": [],
   "source": [
    "# print(1/4 * np.sum(np.abs(prediction - y)))\n",
    "# 17.15 - y[0]"
   ]
  },
  {
   "cell_type": "code",
   "execution_count": 74,
   "id": "841131f1",
   "metadata": {},
   "outputs": [],
   "source": [
    "# def gradient(x, y, pred):\n",
    "#     e = pred - y\n",
    "#     print(e)\n",
    "#     return  2 * e * x"
   ]
  },
  {
   "cell_type": "code",
   "execution_count": 75,
   "id": "454fab3e",
   "metadata": {},
   "outputs": [],
   "source": [
    "# dw = gradient(xs[0], y[0], prediction[0])"
   ]
  },
  {
   "cell_type": "code",
   "execution_count": 76,
   "id": "7d18600e",
   "metadata": {},
   "outputs": [],
   "source": [
    "# print(dw)"
   ]
  },
  {
   "cell_type": "code",
   "execution_count": 77,
   "id": "00472b99",
   "metadata": {},
   "outputs": [],
   "source": [
    "# print(\"x: \", xs[0])\n",
    "# print(\"iw: \", w)\n",
    "# print(\"y: \", y[0])\n",
    "# print(\"y_pred: \", prediction[0])"
   ]
  },
  {
   "cell_type": "code",
   "execution_count": 78,
   "id": "0d30121d",
   "metadata": {},
   "outputs": [],
   "source": [
    "# w1 = w - lr * dw\n",
    "# print(lr * dw)\n",
    "\n",
    "\n",
    "# print(\"dw0: \", dw)\n",
    "# print(\"w1: \", w1)"
   ]
  },
  {
   "cell_type": "code",
   "execution_count": 79,
   "id": "4b43a264",
   "metadata": {},
   "outputs": [],
   "source": [
    "# prediction = predict(xs, w1)\n",
    "# dw1 = gradient(xs[1], y[1], prediction[1])\n",
    "# w2 = w1 - lr * dw1\n",
    "# print(prediction)\n",
    "# print(\"-lr * dw1: \", -lr * dw1)\n",
    "# print(\"dw1: \", dw1)\n",
    "# print(\"w2: \", w2)"
   ]
  },
  {
   "cell_type": "code",
   "execution_count": 80,
   "id": "516a33a7",
   "metadata": {},
   "outputs": [],
   "source": [
    "# prediction = predict(xs, w2)\n",
    "# dw2 = gradient(xs[2], y[2], prediction[2])\n",
    "# w3 = w2 - lr * dw2\n",
    "# print(prediction)\n",
    "# print(\"dw2: \", dw2)\n",
    "# print(\"w3: \", w3)"
   ]
  },
  {
   "cell_type": "code",
   "execution_count": 81,
   "id": "405d71e6",
   "metadata": {},
   "outputs": [],
   "source": [
    "# prediction = predict(xs, w3)\n",
    "# dw3 = gradient(xs[3], y[3], prediction[3])\n",
    "# w4 = w3 - lr * dw3\n",
    "\n",
    "# print(prediction)\n",
    "# print(\"dw3: \", dw3)\n",
    "# print(\"w4: \", w4)"
   ]
  },
  {
   "cell_type": "code",
   "execution_count": 82,
   "id": "9c445666",
   "metadata": {},
   "outputs": [],
   "source": [
    "# pred_sgd = predict(xs, w4)\n",
    "# print(pred_sgd)"
   ]
  },
  {
   "cell_type": "code",
   "execution_count": 83,
   "id": "7b5bcff4",
   "metadata": {},
   "outputs": [],
   "source": [
    "# mse(pred_sgd, y)"
   ]
  },
  {
   "cell_type": "markdown",
   "id": "a7c2ad4d",
   "metadata": {},
   "source": [
    "## GD"
   ]
  },
  {
   "cell_type": "code",
   "execution_count": 84,
   "id": "c38bf3bd",
   "metadata": {},
   "outputs": [],
   "source": [
    "# def gd_gradient(x, y, pred):\n",
    "#     m = len(y)\n",
    "#     e = pred - y\n",
    "#     return  (1/m) *  x.T.dot(e)"
   ]
  },
  {
   "cell_type": "code",
   "execution_count": 85,
   "id": "5cf633a1",
   "metadata": {},
   "outputs": [],
   "source": [
    "# prediction = predict(xs, w)\n",
    "# dw = gd_gradient(xs, y, prediction)\n",
    "# print(dw)"
   ]
  },
  {
   "cell_type": "code",
   "execution_count": 86,
   "id": "5bad17dd",
   "metadata": {},
   "outputs": [],
   "source": [
    "# w1_dg = w - lr * dw"
   ]
  },
  {
   "cell_type": "code",
   "execution_count": 87,
   "id": "338b106c",
   "metadata": {},
   "outputs": [],
   "source": [
    "# w1_dg"
   ]
  },
  {
   "cell_type": "code",
   "execution_count": 88,
   "id": "2692f003",
   "metadata": {},
   "outputs": [],
   "source": [
    "# pred = predict(xs, w1_dg)"
   ]
  },
  {
   "cell_type": "code",
   "execution_count": 89,
   "id": "202b3738",
   "metadata": {},
   "outputs": [],
   "source": [
    "# mse(pred, y)"
   ]
  },
  {
   "cell_type": "code",
   "execution_count": null,
   "id": "09e05aa4",
   "metadata": {},
   "outputs": [],
   "source": []
  }
 ],
 "metadata": {
  "kernelspec": {
   "display_name": "Python 3 (ipykernel)",
   "language": "python",
   "name": "python3"
  },
  "language_info": {
   "codemirror_mode": {
    "name": "ipython",
    "version": 3
   },
   "file_extension": ".py",
   "mimetype": "text/x-python",
   "name": "python",
   "nbconvert_exporter": "python",
   "pygments_lexer": "ipython3",
   "version": "3.9.13"
  }
 },
 "nbformat": 4,
 "nbformat_minor": 5
}
