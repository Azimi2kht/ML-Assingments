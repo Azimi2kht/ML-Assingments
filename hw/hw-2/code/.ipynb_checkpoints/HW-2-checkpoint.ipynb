{
 "cells": [
  {
   "cell_type": "code",
   "execution_count": 1,
   "id": "b854b4de",
   "metadata": {},
   "outputs": [],
   "source": [
    "import numpy as np\n",
    "import pandas as pd\n",
    "from matplotlib import pyplot as plt\n",
    "from sklearn.preprocessing import LabelEncoder, StandardScaler\n",
    "from sklearn.model_selection import train_test_split\n",
    "from matplotlib import pyplot as plt\n",
    "from tqdm import tqdm\n",
    "from sklearn.svm import SVC"
   ]
  },
  {
   "cell_type": "markdown",
   "id": "1ef2cf90",
   "metadata": {},
   "source": [
    "# Q1"
   ]
  },
  {
   "cell_type": "code",
   "execution_count": 2,
   "id": "bc42e6e4",
   "metadata": {},
   "outputs": [],
   "source": [
    "data = pd.read_csv('data/car_data.csv', index_col='User ID')"
   ]
  },
  {
   "cell_type": "code",
   "execution_count": 3,
   "id": "be983aa8",
   "metadata": {},
   "outputs": [
    {
     "name": "stdout",
     "output_type": "stream",
     "text": [
      "(1000, 4)\n"
     ]
    },
    {
     "data": {
      "text/html": [
       "<div>\n",
       "<style scoped>\n",
       "    .dataframe tbody tr th:only-of-type {\n",
       "        vertical-align: middle;\n",
       "    }\n",
       "\n",
       "    .dataframe tbody tr th {\n",
       "        vertical-align: top;\n",
       "    }\n",
       "\n",
       "    .dataframe thead th {\n",
       "        text-align: right;\n",
       "    }\n",
       "</style>\n",
       "<table border=\"1\" class=\"dataframe\">\n",
       "  <thead>\n",
       "    <tr style=\"text-align: right;\">\n",
       "      <th></th>\n",
       "      <th>Gender</th>\n",
       "      <th>Age</th>\n",
       "      <th>AnnualSalary</th>\n",
       "      <th>Purchased</th>\n",
       "    </tr>\n",
       "    <tr>\n",
       "      <th>User ID</th>\n",
       "      <th></th>\n",
       "      <th></th>\n",
       "      <th></th>\n",
       "      <th></th>\n",
       "    </tr>\n",
       "  </thead>\n",
       "  <tbody>\n",
       "    <tr>\n",
       "      <th>385</th>\n",
       "      <td>Male</td>\n",
       "      <td>35</td>\n",
       "      <td>20000</td>\n",
       "      <td>0</td>\n",
       "    </tr>\n",
       "    <tr>\n",
       "      <th>681</th>\n",
       "      <td>Male</td>\n",
       "      <td>40</td>\n",
       "      <td>43500</td>\n",
       "      <td>0</td>\n",
       "    </tr>\n",
       "    <tr>\n",
       "      <th>353</th>\n",
       "      <td>Male</td>\n",
       "      <td>49</td>\n",
       "      <td>74000</td>\n",
       "      <td>0</td>\n",
       "    </tr>\n",
       "    <tr>\n",
       "      <th>895</th>\n",
       "      <td>Male</td>\n",
       "      <td>40</td>\n",
       "      <td>107500</td>\n",
       "      <td>1</td>\n",
       "    </tr>\n",
       "    <tr>\n",
       "      <th>661</th>\n",
       "      <td>Male</td>\n",
       "      <td>25</td>\n",
       "      <td>79000</td>\n",
       "      <td>0</td>\n",
       "    </tr>\n",
       "  </tbody>\n",
       "</table>\n",
       "</div>"
      ],
      "text/plain": [
       "        Gender  Age  AnnualSalary  Purchased\n",
       "User ID                                     \n",
       "385       Male   35         20000          0\n",
       "681       Male   40         43500          0\n",
       "353       Male   49         74000          0\n",
       "895       Male   40        107500          1\n",
       "661       Male   25         79000          0"
      ]
     },
     "execution_count": 3,
     "metadata": {},
     "output_type": "execute_result"
    }
   ],
   "source": [
    "print(data.shape)\n",
    "data.head(5)"
   ]
  },
  {
   "cell_type": "code",
   "execution_count": 4,
   "id": "acbbfd23",
   "metadata": {},
   "outputs": [
    {
     "data": {
      "text/plain": [
       "[]"
      ]
     },
     "execution_count": 4,
     "metadata": {},
     "output_type": "execute_result"
    },
    {
     "data": {
      "image/png": "[encoded data removed]",
      "text/plain": [
       "<Figure size 640x480 with 1 Axes>"
      ]
     },
     "metadata": {},
     "output_type": "display_data"
    }
   ],
   "source": [
    "plt.title(\"Age\")\n",
    "plt.xlabel(\"Age\")\n",
    "plt.ylabel(\"Count\")\n",
    "plt.hist(data['Age'])\n",
    "plt.plot()"
   ]
  },
  {
   "cell_type": "markdown",
   "id": "0e190150",
   "metadata": {},
   "source": [
    "## Plotting"
   ]
  },
  {
   "cell_type": "code",
   "execution_count": 5,
   "id": "5b701b95",
   "metadata": {},
   "outputs": [
    {
     "data": {
      "text/plain": [
       "[]"
      ]
     },
     "execution_count": 5,
     "metadata": {},
     "output_type": "execute_result"
    },
    {
     "data": {
      "image/png": "[encoded data removed]",
      "text/plain": [
       "<Figure size 640x480 with 1 Axes>"
      ]
     },
     "metadata": {},
     "output_type": "display_data"
    }
   ],
   "source": [
    "labels = 'Male', 'Female'\n",
    "data_sizes = data['Gender'].value_counts()\n",
    "sizes = [data_sizes['Male'], data_sizes['Female']]\n",
    "\n",
    "fig, ax = plt.subplots()\n",
    "plt.title(\"Gender\")\n",
    "ax.pie(sizes, labels=labels)\n",
    "ax.plot()"
   ]
  },
  {
   "cell_type": "markdown",
   "id": "b5f2d099",
   "metadata": {},
   "source": [
    "## Extract data and label"
   ]
  },
  {
   "cell_type": "code",
   "execution_count": 6,
   "id": "6770ea25",
   "metadata": {},
   "outputs": [],
   "source": [
    "x = data.drop(columns='Purchased')\n",
    "y = data['Purchased']"
   ]
  },
  {
   "cell_type": "code",
   "execution_count": 7,
   "id": "b1cf9f2b",
   "metadata": {},
   "outputs": [],
   "source": [
    "encoder = LabelEncoder()\n",
    "x['Gender'] = encoder.fit_transform(x['Gender'])"
   ]
  },
  {
   "cell_type": "code",
   "execution_count": 8,
   "id": "36546d44",
   "metadata": {},
   "outputs": [],
   "source": [
    "scaler = StandardScaler()\n",
    "x_scaled = scaler.fit_transform(x)"
   ]
  },
  {
   "cell_type": "code",
   "execution_count": 9,
   "id": "98601d56",
   "metadata": {},
   "outputs": [
    {
     "data": {
      "text/html": [
       "<div>\n",
       "<style scoped>\n",
       "    .dataframe tbody tr th:only-of-type {\n",
       "        vertical-align: middle;\n",
       "    }\n",
       "\n",
       "    .dataframe tbody tr th {\n",
       "        vertical-align: top;\n",
       "    }\n",
       "\n",
       "    .dataframe thead th {\n",
       "        text-align: right;\n",
       "    }\n",
       "</style>\n",
       "<table border=\"1\" class=\"dataframe\">\n",
       "  <thead>\n",
       "    <tr style=\"text-align: right;\">\n",
       "      <th></th>\n",
       "      <th>Gender</th>\n",
       "      <th>Age</th>\n",
       "      <th>AnnualSalary</th>\n",
       "    </tr>\n",
       "    <tr>\n",
       "      <th>User ID</th>\n",
       "      <th></th>\n",
       "      <th></th>\n",
       "      <th></th>\n",
       "    </tr>\n",
       "  </thead>\n",
       "  <tbody>\n",
       "    <tr>\n",
       "      <th>385</th>\n",
       "      <td>1</td>\n",
       "      <td>35</td>\n",
       "      <td>20000</td>\n",
       "    </tr>\n",
       "    <tr>\n",
       "      <th>681</th>\n",
       "      <td>1</td>\n",
       "      <td>40</td>\n",
       "      <td>43500</td>\n",
       "    </tr>\n",
       "    <tr>\n",
       "      <th>353</th>\n",
       "      <td>1</td>\n",
       "      <td>49</td>\n",
       "      <td>74000</td>\n",
       "    </tr>\n",
       "    <tr>\n",
       "      <th>895</th>\n",
       "      <td>1</td>\n",
       "      <td>40</td>\n",
       "      <td>107500</td>\n",
       "    </tr>\n",
       "    <tr>\n",
       "      <th>661</th>\n",
       "      <td>1</td>\n",
       "      <td>25</td>\n",
       "      <td>79000</td>\n",
       "    </tr>\n",
       "  </tbody>\n",
       "</table>\n",
       "</div>"
      ],
      "text/plain": [
       "         Gender  Age  AnnualSalary\n",
       "User ID                           \n",
       "385           1   35         20000\n",
       "681           1   40         43500\n",
       "353           1   49         74000\n",
       "895           1   40        107500\n",
       "661           1   25         79000"
      ]
     },
     "execution_count": 9,
     "metadata": {},
     "output_type": "execute_result"
    }
   ],
   "source": [
    "x.head()"
   ]
  },
  {
   "cell_type": "markdown",
   "id": "86eda405",
   "metadata": {},
   "source": [
    "## Train Test Split"
   ]
  },
  {
   "cell_type": "code",
   "execution_count": 10,
   "id": "3d998ce5",
   "metadata": {},
   "outputs": [],
   "source": [
    "x_train, x_test, y_train, y_test = train_test_split(x_scaled, y, test_size=0.2)"
   ]
  },
  {
   "cell_type": "markdown",
   "id": "ead06dcb",
   "metadata": {},
   "source": [
    "## Logistic"
   ]
  },
  {
   "cell_type": "code",
   "execution_count": 11,
   "id": "49799163",
   "metadata": {},
   "outputs": [],
   "source": [
    "def z(x, w):\n",
    "    return w.dot(x.T)\n",
    "\n",
    "def sigmoid(z):\n",
    "    return 1/ (1 + np.e**(-z))\n",
    "\n",
    "def error(y, y_hat):\n",
    "    return y - y_hat\n",
    "\n",
    "def initial_w(size):\n",
    "    return np.zeros(size)\n",
    "\n",
    "def calc_gradient(x, y, y_hat):\n",
    "    e = error(y, y_hat)\n",
    "    return - x.T.dot(e)\n",
    "\n",
    "def bce(y, y_hat):\n",
    "    m = len(y)\n",
    "    return -1 / m * np.sum(y * np.log(y_hat) + (1 - y) * np.log(1 - y_hat))\n",
    "\n",
    "def accuracy(y, y_hat):\n",
    "    y_hat[y_hat >= 0.5] = 1\n",
    "    y_hat[y_hat < 0.5] = 0\n",
    "    \n",
    "    correct = np.sum(y == y_hat)\n",
    "    m = len(y)\n",
    "    \n",
    "    return correct / m\n",
    "\n",
    "def logistic_regression(x, y, epochs, lr):\n",
    "    losses = []\n",
    "    accuracies = []\n",
    "    w = initial_w(n)\n",
    "    for i in range(epochs):\n",
    "        y_hat = sigmoid(z(x, w))\n",
    "        dw = calc_gradient(x, y, y_hat)\n",
    "        w -= lr * dw\n",
    " \n",
    "        loss = bce(y, y_hat)\n",
    "        losses.append(loss)\n",
    "        \n",
    "        acc = accuracy(y, y_hat)\n",
    "        accuracies.append(acc)\n",
    "        \n",
    "        print(f\"epoch: {i + 1}, accuracy: {acc:.2}, loss: {loss:.3f}\")\n",
    "        \n",
    "        \n",
    "    return w, losses, accuracies"
   ]
  },
  {
   "cell_type": "code",
   "execution_count": 12,
   "id": "2f4d8e9b",
   "metadata": {},
   "outputs": [],
   "source": [
    "m, n = x_train.shape\n",
    "epochs = 100\n",
    "lr = 0.005"
   ]
  },
  {
   "cell_type": "code",
   "execution_count": 13,
   "id": "ac46a70c",
   "metadata": {
    "scrolled": true
   },
   "outputs": [
    {
     "name": "stdout",
     "output_type": "stream",
     "text": [
      "epoch: 1, accuracy: 0.41, loss: 0.693\n",
      "epoch: 2, accuracy: 0.82, loss: 0.425\n",
      "epoch: 3, accuracy: 0.82, loss: 0.408\n",
      "epoch: 4, accuracy: 0.82, loss: 0.401\n",
      "epoch: 5, accuracy: 0.82, loss: 0.398\n",
      "epoch: 6, accuracy: 0.82, loss: 0.395\n",
      "epoch: 7, accuracy: 0.82, loss: 0.394\n",
      "epoch: 8, accuracy: 0.82, loss: 0.393\n",
      "epoch: 9, accuracy: 0.82, loss: 0.393\n",
      "epoch: 10, accuracy: 0.82, loss: 0.392\n",
      "epoch: 11, accuracy: 0.82, loss: 0.392\n",
      "epoch: 12, accuracy: 0.82, loss: 0.392\n",
      "epoch: 13, accuracy: 0.82, loss: 0.392\n",
      "epoch: 14, accuracy: 0.82, loss: 0.392\n",
      "epoch: 15, accuracy: 0.82, loss: 0.392\n",
      "epoch: 16, accuracy: 0.82, loss: 0.392\n",
      "epoch: 17, accuracy: 0.82, loss: 0.392\n",
      "epoch: 18, accuracy: 0.82, loss: 0.392\n",
      "epoch: 19, accuracy: 0.82, loss: 0.392\n",
      "epoch: 20, accuracy: 0.82, loss: 0.392\n",
      "epoch: 21, accuracy: 0.82, loss: 0.392\n",
      "epoch: 22, accuracy: 0.82, loss: 0.392\n",
      "epoch: 23, accuracy: 0.82, loss: 0.392\n",
      "epoch: 24, accuracy: 0.82, loss: 0.392\n",
      "epoch: 25, accuracy: 0.82, loss: 0.392\n",
      "epoch: 26, accuracy: 0.82, loss: 0.392\n",
      "epoch: 27, accuracy: 0.82, loss: 0.392\n",
      "epoch: 28, accuracy: 0.82, loss: 0.392\n",
      "epoch: 29, accuracy: 0.82, loss: 0.392\n",
      "epoch: 30, accuracy: 0.82, loss: 0.392\n",
      "epoch: 31, accuracy: 0.82, loss: 0.392\n",
      "epoch: 32, accuracy: 0.82, loss: 0.392\n",
      "epoch: 33, accuracy: 0.82, loss: 0.392\n",
      "epoch: 34, accuracy: 0.82, loss: 0.392\n",
      "epoch: 35, accuracy: 0.82, loss: 0.392\n",
      "epoch: 36, accuracy: 0.82, loss: 0.392\n",
      "epoch: 37, accuracy: 0.82, loss: 0.392\n",
      "epoch: 38, accuracy: 0.82, loss: 0.392\n",
      "epoch: 39, accuracy: 0.82, loss: 0.392\n",
      "epoch: 40, accuracy: 0.82, loss: 0.392\n",
      "epoch: 41, accuracy: 0.82, loss: 0.392\n",
      "epoch: 42, accuracy: 0.82, loss: 0.392\n",
      "epoch: 43, accuracy: 0.82, loss: 0.392\n",
      "epoch: 44, accuracy: 0.82, loss: 0.392\n",
      "epoch: 45, accuracy: 0.82, loss: 0.392\n",
      "epoch: 46, accuracy: 0.82, loss: 0.392\n",
      "epoch: 47, accuracy: 0.82, loss: 0.392\n",
      "epoch: 48, accuracy: 0.82, loss: 0.392\n",
      "epoch: 49, accuracy: 0.82, loss: 0.392\n",
      "epoch: 50, accuracy: 0.82, loss: 0.392\n",
      "epoch: 51, accuracy: 0.82, loss: 0.392\n",
      "epoch: 52, accuracy: 0.82, loss: 0.392\n",
      "epoch: 53, accuracy: 0.82, loss: 0.392\n",
      "epoch: 54, accuracy: 0.82, loss: 0.392\n",
      "epoch: 55, accuracy: 0.82, loss: 0.392\n",
      "epoch: 56, accuracy: 0.82, loss: 0.392\n",
      "epoch: 57, accuracy: 0.82, loss: 0.392\n",
      "epoch: 58, accuracy: 0.82, loss: 0.392\n",
      "epoch: 59, accuracy: 0.82, loss: 0.392\n",
      "epoch: 60, accuracy: 0.82, loss: 0.392\n",
      "epoch: 61, accuracy: 0.82, loss: 0.392\n",
      "epoch: 62, accuracy: 0.82, loss: 0.392\n",
      "epoch: 63, accuracy: 0.82, loss: 0.392\n",
      "epoch: 64, accuracy: 0.82, loss: 0.392\n",
      "epoch: 65, accuracy: 0.82, loss: 0.392\n",
      "epoch: 66, accuracy: 0.82, loss: 0.392\n",
      "epoch: 67, accuracy: 0.82, loss: 0.392\n",
      "epoch: 68, accuracy: 0.82, loss: 0.392\n",
      "epoch: 69, accuracy: 0.82, loss: 0.392\n",
      "epoch: 70, accuracy: 0.82, loss: 0.392\n",
      "epoch: 71, accuracy: 0.82, loss: 0.392\n",
      "epoch: 72, accuracy: 0.82, loss: 0.392\n",
      "epoch: 73, accuracy: 0.82, loss: 0.392\n",
      "epoch: 74, accuracy: 0.82, loss: 0.392\n",
      "epoch: 75, accuracy: 0.82, loss: 0.392\n",
      "epoch: 76, accuracy: 0.82, loss: 0.392\n",
      "epoch: 77, accuracy: 0.82, loss: 0.392\n",
      "epoch: 78, accuracy: 0.82, loss: 0.392\n",
      "epoch: 79, accuracy: 0.82, loss: 0.392\n",
      "epoch: 80, accuracy: 0.82, loss: 0.392\n",
      "epoch: 81, accuracy: 0.82, loss: 0.392\n",
      "epoch: 82, accuracy: 0.82, loss: 0.392\n",
      "epoch: 83, accuracy: 0.82, loss: 0.392\n",
      "epoch: 84, accuracy: 0.82, loss: 0.392\n",
      "epoch: 85, accuracy: 0.82, loss: 0.392\n",
      "epoch: 86, accuracy: 0.82, loss: 0.392\n",
      "epoch: 87, accuracy: 0.82, loss: 0.392\n",
      "epoch: 88, accuracy: 0.82, loss: 0.392\n",
      "epoch: 89, accuracy: 0.82, loss: 0.392\n",
      "epoch: 90, accuracy: 0.82, loss: 0.392\n",
      "epoch: 91, accuracy: 0.82, loss: 0.392\n",
      "epoch: 92, accuracy: 0.82, loss: 0.392\n",
      "epoch: 93, accuracy: 0.82, loss: 0.392\n",
      "epoch: 94, accuracy: 0.82, loss: 0.392\n",
      "epoch: 95, accuracy: 0.82, loss: 0.392\n",
      "epoch: 96, accuracy: 0.82, loss: 0.392\n",
      "epoch: 97, accuracy: 0.82, loss: 0.392\n",
      "epoch: 98, accuracy: 0.82, loss: 0.392\n",
      "epoch: 99, accuracy: 0.82, loss: 0.392\n",
      "epoch: 100, accuracy: 0.82, loss: 0.392\n"
     ]
    }
   ],
   "source": [
    "w, losses, accuracies = logistic_regression(x_train, y_train, epochs, lr)"
   ]
  },
  {
   "cell_type": "code",
   "execution_count": 14,
   "id": "4c16cfb8",
   "metadata": {},
   "outputs": [
    {
     "data": {
      "text/plain": [
       "[<matplotlib.lines.Line2D at 0x15d9d4d90>]"
      ]
     },
     "execution_count": 14,
     "metadata": {},
     "output_type": "execute_result"
    },
    {
     "data": {
      "image/png": "[encoded data removed]",
      "text/plain": [
       "<Figure size 640x480 with 1 Axes>"
      ]
     },
     "metadata": {},
     "output_type": "display_data"
    }
   ],
   "source": [
    "plt.plot(losses)"
   ]
  },
  {
   "cell_type": "code",
   "execution_count": 15,
   "id": "2d36f2c5",
   "metadata": {},
   "outputs": [
    {
     "data": {
      "text/plain": [
       "[<matplotlib.lines.Line2D at 0x15da418b0>]"
      ]
     },
     "execution_count": 15,
     "metadata": {},
     "output_type": "execute_result"
    },
    {
     "data": {
      "image/png": "[encoded data removed]",
      "text/plain": [
       "<Figure size 640x480 with 1 Axes>"
      ]
     },
     "metadata": {},
     "output_type": "display_data"
    }
   ],
   "source": [
    "plt.plot(accuracies)"
   ]
  },
  {
   "cell_type": "code",
   "execution_count": 16,
   "id": "4bf3ef35",
   "metadata": {},
   "outputs": [
    {
     "name": "stdout",
     "output_type": "stream",
     "text": [
      "test accuracy: 0.815, test loss: 0.46866807906247054\n"
     ]
    }
   ],
   "source": [
    "y_hat = sigmoid(z(x_test, w))\n",
    "\n",
    "loss_test = bce(y_test, y_hat)\n",
    "\n",
    "acc_test = accuracy(y_test, y_hat)\n",
    "\n",
    "print(f\"test accuracy: {acc_test}, test loss: {loss_test}\")"
   ]
  },
  {
   "cell_type": "markdown",
   "id": "8b5b7a58",
   "metadata": {},
   "source": [
    "# Q2"
   ]
  },
  {
   "cell_type": "code",
   "execution_count": 17,
   "id": "029a7790",
   "metadata": {},
   "outputs": [],
   "source": [
    "data2 = pd.read_csv('data/cats.csv', index_col='rownames')"
   ]
  },
  {
   "cell_type": "code",
   "execution_count": 18,
   "id": "24394014",
   "metadata": {},
   "outputs": [
    {
     "data": {
      "text/html": [
       "<div>\n",
       "<style scoped>\n",
       "    .dataframe tbody tr th:only-of-type {\n",
       "        vertical-align: middle;\n",
       "    }\n",
       "\n",
       "    .dataframe tbody tr th {\n",
       "        vertical-align: top;\n",
       "    }\n",
       "\n",
       "    .dataframe thead th {\n",
       "        text-align: right;\n",
       "    }\n",
       "</style>\n",
       "<table border=\"1\" class=\"dataframe\">\n",
       "  <thead>\n",
       "    <tr style=\"text-align: right;\">\n",
       "      <th></th>\n",
       "      <th>Gender</th>\n",
       "      <th>Bwt</th>\n",
       "      <th>Hwt</th>\n",
       "    </tr>\n",
       "    <tr>\n",
       "      <th>rownames</th>\n",
       "      <th></th>\n",
       "      <th></th>\n",
       "      <th></th>\n",
       "    </tr>\n",
       "  </thead>\n",
       "  <tbody>\n",
       "    <tr>\n",
       "      <th>1</th>\n",
       "      <td>F</td>\n",
       "      <td>2.0</td>\n",
       "      <td>7.0</td>\n",
       "    </tr>\n",
       "    <tr>\n",
       "      <th>2</th>\n",
       "      <td>F</td>\n",
       "      <td>2.0</td>\n",
       "      <td>7.4</td>\n",
       "    </tr>\n",
       "    <tr>\n",
       "      <th>3</th>\n",
       "      <td>F</td>\n",
       "      <td>2.0</td>\n",
       "      <td>9.5</td>\n",
       "    </tr>\n",
       "    <tr>\n",
       "      <th>4</th>\n",
       "      <td>F</td>\n",
       "      <td>2.1</td>\n",
       "      <td>7.2</td>\n",
       "    </tr>\n",
       "    <tr>\n",
       "      <th>5</th>\n",
       "      <td>F</td>\n",
       "      <td>2.1</td>\n",
       "      <td>7.3</td>\n",
       "    </tr>\n",
       "  </tbody>\n",
       "</table>\n",
       "</div>"
      ],
      "text/plain": [
       "         Gender  Bwt  Hwt\n",
       "rownames                 \n",
       "1             F  2.0  7.0\n",
       "2             F  2.0  7.4\n",
       "3             F  2.0  9.5\n",
       "4             F  2.1  7.2\n",
       "5             F  2.1  7.3"
      ]
     },
     "execution_count": 18,
     "metadata": {},
     "output_type": "execute_result"
    }
   ],
   "source": [
    "data2.head()"
   ]
  },
  {
   "cell_type": "code",
   "execution_count": 19,
   "id": "79696e77",
   "metadata": {},
   "outputs": [],
   "source": [
    "encoder2 = LabelEncoder()\n",
    "data2['Gender'] = encoder2.fit_transform(data2['Gender'])"
   ]
  },
  {
   "cell_type": "code",
   "execution_count": 20,
   "id": "dfaa9a58",
   "metadata": {
    "scrolled": false
   },
   "outputs": [],
   "source": [
    "y = data2['Gender']\n",
    "x = data2.drop(columns='Gender')"
   ]
  },
  {
   "cell_type": "code",
   "execution_count": 21,
   "id": "d8a2dcbe",
   "metadata": {},
   "outputs": [],
   "source": [
    "scaler2 = StandardScaler()\n",
    "x_scaled2 = scaler2.fit_transform(x)"
   ]
  },
  {
   "cell_type": "code",
   "execution_count": 22,
   "id": "b57e94fc",
   "metadata": {},
   "outputs": [],
   "source": [
    "x_train_scaled, x_test_scaled, y_train_scaled, y_test_scaled = train_test_split(\n",
    "    x_scaled2,\n",
    "    y, test_size=0.2,\n",
    "    random_state=42\n",
    ")\n",
    "\n",
    "x_train, x_test, y_train, y_test = train_test_split(\n",
    "    x.to_numpy(),\n",
    "    y.to_numpy(),\n",
    "    test_size=0.2,\n",
    "    random_state=42\n",
    ")"
   ]
  },
  {
   "cell_type": "code",
   "execution_count": 23,
   "id": "8cf7bf92",
   "metadata": {},
   "outputs": [],
   "source": [
    "x_male_scaled = x_train_scaled[y_train_scaled==1]\n",
    "x_female_scaled = x_train_scaled[y_train_scaled==0]\n",
    "\n",
    "x_male = x_train[y_train==1]\n",
    "x_female = x_train[y_train==0]"
   ]
  },
  {
   "cell_type": "code",
   "execution_count": 24,
   "id": "06faa739",
   "metadata": {},
   "outputs": [
    {
     "data": {
      "text/plain": [
       "<matplotlib.collections.PathCollection at 0x15da78c70>"
      ]
     },
     "execution_count": 24,
     "metadata": {},
     "output_type": "execute_result"
    },
    {
     "data": {
      "image/png": "[encoded data removed]",
      "text/plain": [
       "<Figure size 640x480 with 1 Axes>"
      ]
     },
     "metadata": {},
     "output_type": "display_data"
    }
   ],
   "source": [
    "plt.scatter(x_male[:, 1], x_male[:, 0], color='r')\n",
    "plt.scatter(x_female[:, 1], x_female[:, 0])"
   ]
  },
  {
   "cell_type": "code",
   "execution_count": 25,
   "id": "2a1ac5cd",
   "metadata": {},
   "outputs": [
    {
     "data": {
      "text/plain": [
       "<matplotlib.collections.PathCollection at 0x15dad1f10>"
      ]
     },
     "execution_count": 25,
     "metadata": {},
     "output_type": "execute_result"
    },
    {
     "data": {
      "image/png": "[encoded data removed]",
      "text/plain": [
       "<Figure size 640x480 with 1 Axes>"
      ]
     },
     "metadata": {},
     "output_type": "display_data"
    }
   ],
   "source": [
    "plt.scatter(x_male_scaled[:, 1], x_male_scaled[:, 0], color='r')\n",
    "plt.scatter(x_female_scaled[:, 1], x_female_scaled[:, 0])"
   ]
  },
  {
   "cell_type": "markdown",
   "id": "0660fd01",
   "metadata": {},
   "source": [
    "Observation: The data points are zeros centered (more close to zero) after normaliziation."
   ]
  },
  {
   "cell_type": "code",
   "execution_count": 26,
   "id": "07085e2a",
   "metadata": {},
   "outputs": [
    {
     "data": {
      "text/plain": [
       "array([1.e-02, 1.e-01, 1.e+00, 1.e+01, 1.e+02, 1.e+03, 1.e+04, 1.e+05])"
      ]
     },
     "execution_count": 26,
     "metadata": {},
     "output_type": "execute_result"
    }
   ],
   "source": [
    "C = np.logspace(-2, 5, num=8)\n",
    "C"
   ]
  },
  {
   "cell_type": "code",
   "execution_count": 27,
   "id": "b62f521f",
   "metadata": {},
   "outputs": [
    {
     "data": {
      "text/plain": [
       "array([1.00000000e-06, 2.92864456e-06, 8.57695899e-06, 2.51188643e-05,\n",
       "       7.35642254e-05, 2.15443469e-04, 6.30957344e-04, 1.84784980e-03,\n",
       "       5.41169527e-03, 1.58489319e-02, 4.64158883e-02, 1.35935639e-01,\n",
       "       3.98107171e-01, 1.16591440e+00, 3.41454887e+00, 1.00000000e+01])"
      ]
     },
     "execution_count": 27,
     "metadata": {},
     "output_type": "execute_result"
    }
   ],
   "source": [
    "gamma = np.logspace(-6, 1, num=16)\n",
    "gamma"
   ]
  },
  {
   "cell_type": "code",
   "execution_count": 28,
   "id": "d54e3823",
   "metadata": {},
   "outputs": [],
   "source": [
    "def acc(pred, y):\n",
    "    return np.mean(pred == y)"
   ]
  },
  {
   "cell_type": "markdown",
   "id": "335e7424",
   "metadata": {},
   "source": [
    "# Linear"
   ]
  },
  {
   "cell_type": "code",
   "execution_count": 29,
   "id": "1db9a1c8",
   "metadata": {},
   "outputs": [
    {
     "name": "stdout",
     "output_type": "stream",
     "text": [
      "best acc: 0.7913043478260869, best C: 10.0, best gamma: 1e-06\n"
     ]
    }
   ],
   "source": [
    "best_acc = 0\n",
    "best_c = 0\n",
    "best_g = 0\n",
    "best_model = None\n",
    "for g in gamma:\n",
    "    for c in C:\n",
    "        clf = SVC(C=c, gamma=g,kernel='linear')\n",
    "        clf.fit(x_train_scaled, y_train_scaled)\n",
    "        accuracy = acc(clf.predict(x_train_scaled), y_train_scaled)\n",
    "        if accuracy > best_acc:\n",
    "            best_acc = accuracy\n",
    "            best_c = c\n",
    "            best_g = g\n",
    "            best_model = clf\n",
    "        \n",
    "print(f'best acc: {best_acc}, best C: {best_c}, best gamma: {best_g}')"
   ]
  },
  {
   "cell_type": "markdown",
   "id": "94288a1d",
   "metadata": {},
   "source": [
    "# Gaussian"
   ]
  },
  {
   "cell_type": "code",
   "execution_count": 30,
   "id": "8ec374e8",
   "metadata": {},
   "outputs": [
    {
     "name": "stdout",
     "output_type": "stream",
     "text": [
      "best acc: 0.9739130434782609, best C: 100000.0, best gamma: 3.414548873833601\n"
     ]
    }
   ],
   "source": [
    "best_acc = 0\n",
    "best_c = 0\n",
    "best_g = 0\n",
    "best_model = None\n",
    "for g in gamma:\n",
    "    for c in C:\n",
    "        clf = SVC(C=c, gamma=g,kernel='rbf')\n",
    "        clf.fit(x_train_scaled, y_train_scaled)\n",
    "        accuracy = acc(clf.predict(x_train_scaled), y_train_scaled)\n",
    "        if accuracy > best_acc:\n",
    "            best_acc = accuracy\n",
    "            best_c = c\n",
    "            best_g = g\n",
    "            best_model = clf\n",
    "        \n",
    "print(f'best acc: {best_acc}, best C: {best_c}, best gamma: {best_g}')"
   ]
  },
  {
   "cell_type": "markdown",
   "id": "4bcd03e9",
   "metadata": {},
   "source": [
    "the gaussian filter has better performance."
   ]
  },
  {
   "cell_type": "markdown",
   "id": "11c71496",
   "metadata": {},
   "source": [
    "as we can see in the plots bellow the data isn't linearly seperatable, so using gaussian filter that introduces non-linearity makes the model perform better on seperating the two classes and though giving better performance."
   ]
  },
  {
   "cell_type": "code",
   "execution_count": 31,
   "id": "cc2b3f06",
   "metadata": {},
   "outputs": [],
   "source": [
    "x_male_test = x_test_scaled[y_test_scaled==1]\n",
    "x_female_test = x_test_scaled[y_test_scaled==0]"
   ]
  },
  {
   "cell_type": "code",
   "execution_count": 32,
   "id": "14b23450",
   "metadata": {},
   "outputs": [
    {
     "data": {
      "text/plain": [
       "<matplotlib.collections.PathCollection at 0x15dba92b0>"
      ]
     },
     "execution_count": 32,
     "metadata": {},
     "output_type": "execute_result"
    },
    {
     "data": {
      "image/png": "[encoded data removed]",
      "text/plain": [
       "<Figure size 640x480 with 1 Axes>"
      ]
     },
     "metadata": {},
     "output_type": "display_data"
    }
   ],
   "source": [
    "plt.scatter(x_male_test[:, 1], x_male_test[:, 0], color='r')\n",
    "plt.scatter(x_female_test[:, 1], x_female_test[:, 0])"
   ]
  },
  {
   "cell_type": "code",
   "execution_count": null,
   "id": "34780171",
   "metadata": {},
   "outputs": [],
   "source": []
  },
  {
   "cell_type": "code",
   "execution_count": null,
   "id": "0498aefd",
   "metadata": {},
   "outputs": [],
   "source": []
  },
  {
   "cell_type": "code",
   "execution_count": null,
   "id": "06d9c17c",
   "metadata": {},
   "outputs": [],
   "source": []
  }
 ],
 "metadata": {
  "kernelspec": {
   "display_name": "Python 3 (ipykernel)",
   "language": "python",
   "name": "python3"
  },
  "language_info": {
   "codemirror_mode": {
    "name": "ipython",
    "version": 3
   },
   "file_extension": ".py",
   "mimetype": "text/x-python",
   "name": "python",
   "nbconvert_exporter": "python",
   "pygments_lexer": "ipython3",
   "version": "3.9.13"
  }
 },
 "nbformat": 4,
 "nbformat_minor": 5
}
