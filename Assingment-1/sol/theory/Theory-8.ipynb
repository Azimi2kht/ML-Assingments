{
 "cells": [
  {
   "cell_type": "code",
   "execution_count": 1,
   "id": "a5328570",
   "metadata": {},
   "outputs": [],
   "source": [
    "def predict(x, w):\n",
    "    return x.dot(w)\n",
    "\n",
    "def mse(y_pred, y):\n",
    "    e = y_pred - y\n",
    "    return 0.5 * np.mean(e * e)\n",
    "\n",
    "def initial_weights(n):\n",
    "    return np.zeros(n)\n",
    "\n",
    "def compute_gradient(x, y, y_pred):\n",
    "    m = len(y)\n",
    "    e = y_pred - y\n",
    "    \n",
    "    gradient_w = (1/m) * x.T.dot(e)\n",
    "    \n",
    "    return gradient_w"
   ]
  },
  {
   "cell_type": "code",
   "execution_count": 2,
   "id": "d44c5682",
   "metadata": {},
   "outputs": [
    {
     "name": "stdout",
     "output_type": "stream",
     "text": [
      "26.0\n"
     ]
    }
   ],
   "source": [
    "import numpy as np\n",
    "w = np.array([-59.5, -0.15, 0.6])\n",
    "lr = 0.1\n",
    "def predict(x, w):\n",
    "    return x.dot(w)\n",
    "print(-59.5 * 1 + 42 * -0.15 + 0.6 * 153)\n"
   ]
  },
  {
   "cell_type": "code",
   "execution_count": 3,
   "id": "aa8ec104",
   "metadata": {},
   "outputs": [
    {
     "name": "stdout",
     "output_type": "stream",
     "text": [
      "(4, 2) (4,)\n"
     ]
    }
   ],
   "source": [
    "x = np.array([[41, 138], [42, 153], [37, 151], [46, 133]])\n",
    "y = np.array([37.99, 47.34, 44.38, 28.17])\n",
    "print(x.shape, y.shape)"
   ]
  },
  {
   "cell_type": "code",
   "execution_count": 4,
   "id": "2dde08e2",
   "metadata": {},
   "outputs": [
    {
     "name": "stdout",
     "output_type": "stream",
     "text": [
      "[[  1.  41. 138.]\n",
      " [  1.  42. 153.]\n",
      " [  1.  37. 151.]\n",
      " [  1.  46. 133.]]\n"
     ]
    }
   ],
   "source": [
    "xs = np.hstack([np.ones((4, 1)), x])\n",
    "print(xs)"
   ]
  },
  {
   "cell_type": "code",
   "execution_count": 5,
   "id": "bed2d98a",
   "metadata": {},
   "outputs": [
    {
     "name": "stdout",
     "output_type": "stream",
     "text": [
      "(4,) [17.15 26.   25.55 13.4 ]\n"
     ]
    }
   ],
   "source": [
    "prediction = predict(xs, w)\n",
    "print(prediction.shape, prediction)"
   ]
  },
  {
   "cell_type": "code",
   "execution_count": 6,
   "id": "e3864238",
   "metadata": {},
   "outputs": [
    {
     "name": "stdout",
     "output_type": "stream",
     "text": [
      "18.945000000000007\n"
     ]
    },
    {
     "data": {
      "text/plain": [
       "-20.840000000000003"
      ]
     },
     "execution_count": 6,
     "metadata": {},
     "output_type": "execute_result"
    }
   ],
   "source": [
    "print(1/4 * np.sum(np.abs(prediction - y)))\n",
    "17.15 - y[0]"
   ]
  },
  {
   "cell_type": "code",
   "execution_count": 7,
   "id": "2985560f",
   "metadata": {},
   "outputs": [],
   "source": [
    "def gradient(x, y, pred):\n",
    "    e = pred - y\n",
    "    return  2 * e * x"
   ]
  },
  {
   "cell_type": "code",
   "execution_count": 8,
   "id": "0c1800c0",
   "metadata": {},
   "outputs": [],
   "source": [
    "dw = gradient(xs[0], y[0], prediction[0])"
   ]
  },
  {
   "cell_type": "code",
   "execution_count": 9,
   "id": "9e076d27",
   "metadata": {},
   "outputs": [
    {
     "name": "stdout",
     "output_type": "stream",
     "text": [
      "[  -41.68 -1708.88 -5751.84]\n"
     ]
    }
   ],
   "source": [
    "print(dw)"
   ]
  },
  {
   "cell_type": "code",
   "execution_count": 10,
   "id": "7a61cdbe",
   "metadata": {},
   "outputs": [
    {
     "name": "stdout",
     "output_type": "stream",
     "text": [
      "x:  [  1.  41. 138.]\n",
      "iw:  [-59.5   -0.15   0.6 ]\n",
      "y:  37.99\n",
      "y_pred:  17.14999999999999\n"
     ]
    }
   ],
   "source": [
    "print(\"x: \", xs[0])\n",
    "print(\"iw: \", w)\n",
    "print(\"y: \", y[0])\n",
    "print(\"y_pred: \", prediction[0])"
   ]
  },
  {
   "cell_type": "code",
   "execution_count": 11,
   "id": "2ae3ebcc",
   "metadata": {},
   "outputs": [
    {
     "name": "stdout",
     "output_type": "stream",
     "text": [
      "[  -4.168 -170.888 -575.184]\n",
      "dw0:  [  -41.68 -1708.88 -5751.84]\n",
      "w1:  [-55.332 170.738 575.784]\n"
     ]
    }
   ],
   "source": [
    "w1 = w - lr * dw\n",
    "print(lr * dw)\n",
    "\n",
    "\n",
    "print(\"dw0: \", dw)\n",
    "print(\"w1: \", w1)"
   ]
  },
  {
   "cell_type": "code",
   "execution_count": 12,
   "id": "2606a839",
   "metadata": {},
   "outputs": [
    {
     "name": "stdout",
     "output_type": "stream",
     "text": [
      "[86403.118 95210.616 93205.358 84377.888]\n",
      "dw1:  [  190326.552       7993715.18400001 29119962.45600002]\n",
      "w2:  [  -19087.9872  -799200.7804 -2911420.4616]\n"
     ]
    }
   ],
   "source": [
    "prediction = predict(xs, w1)\n",
    "dw1 = gradient(xs[1], y[1], prediction[1])\n",
    "w2 = w1 - lr * dw1\n",
    "print(prediction)\n",
    "print(\"dw1: \", dw1)\n",
    "print(\"w2: \", w2)"
   ]
  },
  {
   "cell_type": "code",
   "execution_count": 13,
   "id": "88f17fcb",
   "metadata": {},
   "outputs": [
    {
     "name": "stdout",
     "output_type": "stream",
     "text": [
      "[-4.34562344e+08 -4.79032851e+08 -4.69214007e+08 -4.24001245e+08]\n",
      "dw2:  [-9.38428102e+08 -3.47218398e+10 -1.41702643e+11]\n",
      "w3:  [9.38237222e+07 3.47138478e+09 1.41673529e+10]\n"
     ]
    }
   ],
   "source": [
    "\n",
    "prediction = predict(xs, w2)\n",
    "dw2 = gradient(xs[2], y[2], prediction[2])\n",
    "w3 = w2 - lr * dw2\n",
    "print(prediction)\n",
    "print(\"dw2: \", dw2)\n",
    "print(\"w3: \", w3)"
   ]
  },
  {
   "cell_type": "code",
   "execution_count": 14,
   "id": "ca136ef1",
   "metadata": {},
   "outputs": [
    {
     "name": "stdout",
     "output_type": "stream",
     "text": [
      "[2.09751530e+12 2.31349698e+12 2.26780535e+12 2.04403546e+12]\n",
      "dw3:  [4.08807092e+12 1.88051262e+14 5.43713433e+14]\n",
      "w4:  [-4.08713269e+11 -1.88016549e+13 -5.43571759e+13]\n"
     ]
    }
   ],
   "source": [
    "prediction = predict(xs, w3)\n",
    "dw3 = gradient(xs[3], y[3], prediction[3])\n",
    "w4 = w3 - lr * dw3\n",
    "\n",
    "print(prediction)\n",
    "print(\"dw3: \", dw3)\n",
    "print(\"w4: \", w4)"
   ]
  },
  {
   "cell_type": "code",
   "execution_count": 15,
   "id": "d75c2d4a",
   "metadata": {},
   "outputs": [
    {
     "name": "stdout",
     "output_type": "stream",
     "text": [
      "[-8.27256684e+15 -9.10672613e+15 -8.90400351e+15 -8.09478923e+15]\n"
     ]
    }
   ],
   "source": [
    "pred_sgd = predict(xs, w4)\n",
    "print(pred_sgd)"
   ]
  },
  {
   "cell_type": "code",
   "execution_count": 16,
   "id": "c426ebc7",
   "metadata": {},
   "outputs": [
    {
     "data": {
      "text/plain": [
       "3.702183927607888e+31"
      ]
     },
     "execution_count": 16,
     "metadata": {},
     "output_type": "execute_result"
    }
   ],
   "source": [
    "mse(pred_sgd, y)"
   ]
  },
  {
   "cell_type": "code",
   "execution_count": 17,
   "id": "d0e4f20d",
   "metadata": {},
   "outputs": [],
   "source": [
    "def gd_gradient(x, y, pred):\n",
    "    m = len(y)\n",
    "    e = pred - y\n",
    "    return  (1/m) *  x.T.dot(e)"
   ]
  },
  {
   "cell_type": "code",
   "execution_count": 18,
   "id": "19c778cf",
   "metadata": {},
   "outputs": [
    {
     "name": "stdout",
     "output_type": "stream",
     "text": [
      "[  -18.945   -781.7125 -2737.17  ]\n"
     ]
    }
   ],
   "source": [
    "prediction = predict(xs, w)\n",
    "dw = gd_gradient(xs, y, prediction)\n",
    "print(dw)"
   ]
  },
  {
   "cell_type": "code",
   "execution_count": 19,
   "id": "bac8fd9e",
   "metadata": {},
   "outputs": [],
   "source": [
    "w1_dg = w - lr * dw"
   ]
  },
  {
   "cell_type": "code",
   "execution_count": 20,
   "id": "f075d035",
   "metadata": {},
   "outputs": [
    {
     "data": {
      "text/plain": [
       "array([-57.6055 ,  78.02125, 274.317  ])"
      ]
     },
     "execution_count": 20,
     "metadata": {},
     "output_type": "execute_result"
    }
   ],
   "source": [
    "w1_dg"
   ]
  },
  {
   "cell_type": "code",
   "execution_count": 21,
   "id": "e84718b6",
   "metadata": {},
   "outputs": [],
   "source": [
    "pred = predict(xs, w1_dg)"
   ]
  },
  {
   "cell_type": "code",
   "execution_count": 22,
   "id": "8b9c707f",
   "metadata": {},
   "outputs": [
    {
     "data": {
      "text/plain": [
       "908587593.425293"
      ]
     },
     "execution_count": 22,
     "metadata": {},
     "output_type": "execute_result"
    }
   ],
   "source": [
    "mse(pred, y)"
   ]
  },
  {
   "cell_type": "code",
   "execution_count": null,
   "id": "643a4fac",
   "metadata": {},
   "outputs": [],
   "source": []
  },
  {
   "cell_type": "code",
   "execution_count": null,
   "id": "8ec2b823",
   "metadata": {},
   "outputs": [],
   "source": []
  },
  {
   "cell_type": "code",
   "execution_count": null,
   "id": "26fd54d4",
   "metadata": {},
   "outputs": [],
   "source": []
  },
  {
   "cell_type": "code",
   "execution_count": null,
   "id": "dc177b21",
   "metadata": {},
   "outputs": [],
   "source": []
  }
 ],
 "metadata": {
  "kernelspec": {
   "display_name": "Python 3 (ipykernel)",
   "language": "python",
   "name": "python3"
  },
  "language_info": {
   "codemirror_mode": {
    "name": "ipython",
    "version": 3
   },
   "file_extension": ".py",
   "mimetype": "text/x-python",
   "name": "python",
   "nbconvert_exporter": "python",
   "pygments_lexer": "ipython3",
   "version": "3.9.13"
  }
 },
 "nbformat": 4,
 "nbformat_minor": 5
}
